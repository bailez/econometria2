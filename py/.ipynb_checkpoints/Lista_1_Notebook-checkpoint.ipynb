{
 "cells": [
  {
   "cell_type": "code",
   "execution_count": 1,
   "id": "45ea343c",
   "metadata": {},
   "outputs": [],
   "source": [
    "import numpy as np\n",
    "from numpy.linalg import inv\n",
    "import pandas as pd\n",
    "import statsmodels.api as sm\n",
    "from scipy.stats import t\n",
    "from IPython.display import display, Markdown\n",
    "\n",
    "np.set_printoptions(suppress=True)\n",
    "\n",
    "def get_matrix(v, c, convert=True):\n",
    "    c = c.split(' ')\n",
    "    v = v.replace('\\n',' ').replace(',','.').split(' ')\n",
    "    s = (int(len(v)/len(c)),len(c))\n",
    "    if convert:\n",
    "        v = np.array(v).astype(float)\n",
    "    else:\n",
    "        v = np.array(v)\n",
    "    matrix = np.reshape(v, s)\n",
    "    return matrix\n",
    "\n",
    "def get_confidence_interval(betas, std_errors, vcov, \n",
    "                            conf_lv, df):\n",
    "    t_score = t.ppf(1 - conf_lv, df)\n",
    "    conf_inter = []\n",
    "    for i in range(len(betas)):\n",
    "        upper_bound = betas[i] + t_score*std_err[i]\n",
    "        lower_bound = betas[i] - t_score*std_err[i]\n",
    "        conf_inter.append((lower_bound,upper_bound))\n",
    "    return conf_inter"
   ]
  },
  {
   "cell_type": "markdown",
   "id": "78a540c1",
   "metadata": {},
   "source": [
    "### 1. Com os dados da tabela abaixo, estime a regressãoo de $Y$ em função de $X_2$ e $X_3$ e faça os testes da regressão e de cada um dos parâmetros.\n"
   ]
  },
  {
   "cell_type": "code",
   "execution_count": 2,
   "id": "3592c554",
   "metadata": {},
   "outputs": [
    {
     "data": {
      "text/html": [
       "<div>\n",
       "<style scoped>\n",
       "    .dataframe tbody tr th:only-of-type {\n",
       "        vertical-align: middle;\n",
       "    }\n",
       "\n",
       "    .dataframe tbody tr th {\n",
       "        vertical-align: top;\n",
       "    }\n",
       "\n",
       "    .dataframe thead th {\n",
       "        text-align: right;\n",
       "    }\n",
       "</style>\n",
       "<table border=\"1\" class=\"dataframe\">\n",
       "  <thead>\n",
       "    <tr style=\"text-align: right;\">\n",
       "      <th></th>\n",
       "      <th>Y</th>\n",
       "      <th>X2</th>\n",
       "      <th>X3</th>\n",
       "    </tr>\n",
       "  </thead>\n",
       "  <tbody>\n",
       "    <tr>\n",
       "      <th>0</th>\n",
       "      <td>800.0</td>\n",
       "      <td>2.0</td>\n",
       "      <td>0.8</td>\n",
       "    </tr>\n",
       "    <tr>\n",
       "      <th>1</th>\n",
       "      <td>1160.0</td>\n",
       "      <td>4.0</td>\n",
       "      <td>0.7</td>\n",
       "    </tr>\n",
       "    <tr>\n",
       "      <th>2</th>\n",
       "      <td>1580.0</td>\n",
       "      <td>6.0</td>\n",
       "      <td>0.5</td>\n",
       "    </tr>\n",
       "    <tr>\n",
       "      <th>3</th>\n",
       "      <td>2010.0</td>\n",
       "      <td>8.0</td>\n",
       "      <td>0.4</td>\n",
       "    </tr>\n",
       "    <tr>\n",
       "      <th>4</th>\n",
       "      <td>1890.0</td>\n",
       "      <td>7.0</td>\n",
       "      <td>0.2</td>\n",
       "    </tr>\n",
       "    <tr>\n",
       "      <th>5</th>\n",
       "      <td>2600.0</td>\n",
       "      <td>12.0</td>\n",
       "      <td>0.2</td>\n",
       "    </tr>\n",
       "    <tr>\n",
       "      <th>6</th>\n",
       "      <td>2070.0</td>\n",
       "      <td>11.0</td>\n",
       "      <td>0.8</td>\n",
       "    </tr>\n",
       "    <tr>\n",
       "      <th>7</th>\n",
       "      <td>1890.0</td>\n",
       "      <td>10.0</td>\n",
       "      <td>0.7</td>\n",
       "    </tr>\n",
       "    <tr>\n",
       "      <th>8</th>\n",
       "      <td>1830.0</td>\n",
       "      <td>9.0</td>\n",
       "      <td>0.6</td>\n",
       "    </tr>\n",
       "    <tr>\n",
       "      <th>9</th>\n",
       "      <td>1740.0</td>\n",
       "      <td>8.0</td>\n",
       "      <td>0.1</td>\n",
       "    </tr>\n",
       "    <tr>\n",
       "      <th>10</th>\n",
       "      <td>1380.0</td>\n",
       "      <td>6.0</td>\n",
       "      <td>0.5</td>\n",
       "    </tr>\n",
       "    <tr>\n",
       "      <th>11</th>\n",
       "      <td>1060.0</td>\n",
       "      <td>4.0</td>\n",
       "      <td>0.4</td>\n",
       "    </tr>\n",
       "  </tbody>\n",
       "</table>\n",
       "</div>"
      ],
      "text/plain": [
       "         Y    X2   X3\n",
       "0    800.0   2.0  0.8\n",
       "1   1160.0   4.0  0.7\n",
       "2   1580.0   6.0  0.5\n",
       "3   2010.0   8.0  0.4\n",
       "4   1890.0   7.0  0.2\n",
       "5   2600.0  12.0  0.2\n",
       "6   2070.0  11.0  0.8\n",
       "7   1890.0  10.0  0.7\n",
       "8   1830.0   9.0  0.6\n",
       "9   1740.0   8.0  0.1\n",
       "10  1380.0   6.0  0.5\n",
       "11  1060.0   4.0  0.4"
      ]
     },
     "execution_count": 2,
     "metadata": {},
     "output_type": "execute_result"
    }
   ],
   "source": [
    "# %% (================== Questão 1 ===================) #\n",
    "\n",
    "# Dados\n",
    "\n",
    "cols = 'Y X2 X3'\n",
    "vals ='''800 2 0,8\n",
    "1160 4 0,7\n",
    "1580 6 0,5\n",
    "2010 8 0,4\n",
    "1890 7 0,2\n",
    "2600 12 0,2\n",
    "2070 11 0,8\n",
    "1890 10 0,7\n",
    "1830 9 0,6\n",
    "1740 8 0,1\n",
    "1380 6 0,5\n",
    "1060 4 0,4'''\n",
    "\n",
    "# Transformando em Matrizes\n",
    "\n",
    "A = get_matrix(v = vals, c= cols)\n",
    "Y = A[:,0]\n",
    "X = A.copy()\n",
    "X[:,0] = 1\n",
    "\n",
    "# Modelo a ser estimado\n",
    "# Y = b1 + b2X2 + b3X3 + vt \n",
    "\n",
    "# OLS via Statsmodels\n",
    "df = pd.DataFrame(A,columns=cols.split(' '))\n",
    "df_exog = sm.add_constant(df.iloc[:,1:])\n",
    "model = sm.OLS(df.iloc[:,0], df_exog)\n",
    "result = model.fit()\n",
    "df"
   ]
  },
  {
   "cell_type": "markdown",
   "id": "05d5f137",
   "metadata": {},
   "source": [
    "#### 1A. Calcule os parâmetros $\\beta_1, \\beta_2, \\beta_3$ desse modelo.\n",
    "\n",
    "Formula: $\\hat{\\beta} = X'X^{-1}X'Y$"
   ]
  },
  {
   "cell_type": "code",
   "execution_count": 3,
   "id": "754fa055",
   "metadata": {},
   "outputs": [
    {
     "name": "stdout",
     "output_type": "stream",
     "text": [
      "Via matrizes: [ 789.32955999  149.55929799 -419.25655004]\n",
      "\n",
      "\n",
      "* Via Statsmodels:\n",
      " const    789.329560\n",
      "X2       149.559298\n",
      "X3      -419.256550\n",
      "dtype: float64\n"
     ]
    }
   ],
   "source": [
    "# %%  (========= Item A =========) #\n",
    "\n",
    "# Estimando Beta por meio de Matriz (pg 757 Wooldridge)\n",
    "# B_hat = (X'X)^-1 X'y\n",
    "\n",
    "B_hat = inv(X.T @ X) @ X.T @ Y\n",
    "\n",
    "##  Usando Statsmodels ##\n",
    "B_hat_sm = result.params\n",
    "\n",
    "print('Via matrizes:',B_hat)\n",
    "print('\\n')\n",
    "print('* Via Statsmodels:\\n',B_hat_sm)"
   ]
  },
  {
   "cell_type": "markdown",
   "id": "043b38b4",
   "metadata": {},
   "source": [
    "#### 1B. Monte a matriz de residuos deste modelo. Calcule a soma dos quadrados dos resíduos utilizando método matricial.\n",
    "\n",
    "\n",
    "Formulas:\n",
    "\n",
    "$SSR = (Y - X \\hat{\\beta})'(Y - X \\hat{\\beta}) $\n",
    "\n",
    "$SSR = \\hat{u}'\\hat{u}$\n",
    "\n",
    "$\\hat{u} = (Y - X \\hat{\\beta}) $"
   ]
  },
  {
   "cell_type": "code",
   "execution_count": 4,
   "id": "1741b562",
   "metadata": {},
   "outputs": [
    {
     "data": {
      "text/markdown": [
       "$ SSR = 173444.01874617563$"
      ],
      "text/plain": [
       "<IPython.core.display.Markdown object>"
      ]
     },
     "metadata": {},
     "output_type": "display_data"
    },
    {
     "data": {
      "text/markdown": [
       "$* SSR = 173444.01874617563$"
      ],
      "text/plain": [
       "<IPython.core.display.Markdown object>"
      ]
     },
     "metadata": {},
     "output_type": "display_data"
    }
   ],
   "source": [
    "# %% (========= Item B =========) #\n",
    "\n",
    "# Estimando Soma dos quadrados dos residuos por meio de Matriz (pg 757 Wooldridge)\n",
    "# SSR = (y - XB_hat)' (Y - XB_hat)\n",
    "# SSR = u_hat' u_hat\n",
    "# u_hat = y - XB_hat\n",
    "\n",
    "u_hat = (Y - X @ B_hat)\n",
    "SSR = u_hat.T @ u_hat \n",
    "\n",
    "##  Usando Statsmodels ##\n",
    "SSR_sm = sum(np.square(result.resid))\n",
    "\n",
    "display(Markdown(rf'$ SSR = {SSR}$'))\n",
    "display(Markdown(rf'$* SSR = {SSR_sm}$'))"
   ]
  },
  {
   "cell_type": "markdown",
   "id": "adb2e3ac",
   "metadata": {},
   "source": [
    "#### 1C. Calcule o r2 deste modelo.\n",
    "\n",
    "Formulas:\n",
    "\n",
    "$SST = \\sum (y_i - \\bar{y})^2 $\n",
    "\n",
    "$SSE = \\sum (\\hat{y_i} - \\bar{y})^2 $\n",
    "\n",
    "$SSR = \\sum (hat{u_i})^2 $\n",
    "\n",
    "$SST = SSE + SSR $\n",
    "\n",
    "$R^2 = SSE/SST = 1 - SSR/SST$"
   ]
  },
  {
   "cell_type": "code",
   "execution_count": 5,
   "id": "3ede5238",
   "metadata": {},
   "outputs": [
    {
     "data": {
      "text/markdown": [
       "$ R^2 = 0.9369070784201032$"
      ],
      "text/plain": [
       "<IPython.core.display.Markdown object>"
      ]
     },
     "metadata": {},
     "output_type": "display_data"
    },
    {
     "data": {
      "text/markdown": [
       "$* R^2 = 0.9369070784201032$"
      ],
      "text/plain": [
       "<IPython.core.display.Markdown object>"
      ]
     },
     "metadata": {},
     "output_type": "display_data"
    }
   ],
   "source": [
    "# %% (========= Item C =========) #\n",
    "\n",
    "# Estimando o R^2 do modelo (pg 38 - 40 Wooldridge)\n",
    "# SST = Sum(Yi - Y_mean) ^ 2\n",
    "# SSE - Sum(Yi_hat - Y_mean) ^ 2\n",
    "# SSR = Sum(u_hat)^2\n",
    "# SST = SSE + SSR\n",
    "# R_squared = SSE/SST = 1 - SSR/SST WE\n",
    "\n",
    "SST = sum(np.square(Y - np.repeat(np.mean(Y),len(Y))))\n",
    "SSE = SST - SSR\n",
    "R2 = SSE/SST\n",
    "\n",
    "##  Usando Statsmodels ##\n",
    "R2_sm = result.rsquared\n",
    "\n",
    "display(Markdown(rf'$ R^2 = {R2}$'))\n",
    "display(Markdown(rf'$* R^2 = {R2_sm}$'))"
   ]
  },
  {
   "cell_type": "markdown",
   "id": "babb6303",
   "metadata": {},
   "source": [
    "#### 1D. Monte a matriz de variância e covariância deste modelo.\n",
    "\n",
    "\n",
    "Formulas:\n",
    "\n",
    "$ X'(y - X\\hat{\\beta}) = 0 $\n",
    "\n",
    "$ X' \\hat{u} = 0 $\n",
    "\n",
    "$ \\sigma^2 = SSR/(N - k) $\n",
    "\n",
    "$ Var( u | X ) = \\sigma^2 I_n $\n"
   ]
  },
  {
   "cell_type": "code",
   "execution_count": 6,
   "id": "9e50020a",
   "metadata": {},
   "outputs": [
    {
     "name": "stdout",
     "output_type": "stream",
     "text": [
      "              0            1             2\n",
      "0  24104.991220 -1747.647374 -19990.341607\n",
      "1  -1747.647374   202.342243    570.846328\n",
      "2 -19990.341607   570.846328  32240.757411\n",
      "              const           X2            X3\n",
      "const  24104.991220 -1747.647374 -19990.341607\n",
      "X2     -1747.647374   202.342243    570.846328\n",
      "X3    -19990.341607   570.846328  32240.757411\n"
     ]
    }
   ],
   "source": [
    "# %% (========= Item D =========) #\n",
    "\n",
    "# Estimando Matriz de Variância-Covariância (pg 759 Wooldridge)\n",
    "# X'(y - XB_hat) = 0\n",
    "# X' * u_hat =  0\n",
    "# sigma2 = SSR/ (N - k)\n",
    "# Var(u | X) =  sigma_2 * In\n",
    "\n",
    "sigma_2 = SSR/(X.shape[0] - X.shape[1])\n",
    "vcov = sigma_2 * inv(X.T @ X)\n",
    "\n",
    "##  Usando Statsmodels ##\n",
    "vcov_sm = result.cov_params()\n",
    "print(pd.DataFrame(vcov))\n",
    "print(vcov_sm)"
   ]
  },
  {
   "cell_type": "markdown",
   "id": "fdadbced",
   "metadata": {},
   "source": [
    "#### 1E. Verifique se os $\\beta_1, \\beta_2, \\beta_3$ são significantes ao nível de 5% de significância.\n",
    "\n",
    "\n",
    "Formulas:\n",
    "\n",
    "$ \\alpha = 0.05$\n",
    "\n",
    "$ IC = \\hat(\\beta_j) \\pm t_{1-\\alpha, n-k} *  S_{\\hat{\\beta_j}}$\n",
    "\n",
    "$ t = \\frac{\\hat{\\beta}}{S_{\\hat{\\beta_j}}}$"
   ]
  },
  {
   "cell_type": "code",
   "execution_count": 7,
   "id": "b6cc908c",
   "metadata": {},
   "outputs": [
    {
     "data": {
      "text/markdown": [
       "### Intervalos de Confiança"
      ],
      "text/plain": [
       "<IPython.core.display.Markdown object>"
      ]
     },
     "metadata": {},
     "output_type": "display_data"
    },
    {
     "name": "stdout",
     "output_type": "stream",
     "text": [
      "[(504.7244390132717, 1073.934680973375), (123.4838065995088, 175.63478938424845), (-748.4050189975782, -90.10808107474134)]\n",
      "\n",
      "\n",
      "Statsmodels:\n",
      "                 0            1\n",
      "const  438.111966  1140.547154\n",
      "X2     117.380779   181.737817\n",
      "X3    -825.442963   -13.070137\n"
     ]
    },
    {
     "data": {
      "text/markdown": [
       "### P-valor"
      ],
      "text/plain": [
       "<IPython.core.display.Markdown object>"
      ]
     },
     "metadata": {},
     "output_type": "display_data"
    },
    {
     "name": "stdout",
     "output_type": "stream",
     "text": [
      "[0.00065926 0.00000235 0.044386  ]\n",
      "\n",
      "\n",
      "Statsmodels:\n",
      " const    0.000659\n",
      "X2       0.000002\n",
      "X3       0.044386\n",
      "dtype: float64\n"
     ]
    }
   ],
   "source": [
    "# %% (========= Item E =========) #\n",
    "\n",
    "# Verifica a significancia dos Betas a nivel 5%\n",
    "conf_lv = 0.05\n",
    "\n",
    "# Construindo intervalo de Confiança\n",
    "# Formula de IC:\n",
    "#  b1  +/-  (t1-∝/2, n-k) * (erro padrão de b1)\n",
    "  \n",
    "\n",
    "std_err = np.sqrt(np.diag(vcov))\n",
    "conf_interval = get_confidence_interval(betas=B_hat, std_errors=std_err, \n",
    "                                        vcov = vcov, conf_lv = conf_lv, \n",
    "                                        df = X.shape[0] - X.shape[1])\n",
    "\n",
    "# Testes de Hipótese, obtendo Estatística T e Valor-P\n",
    "t_score = B_hat/std_err\n",
    "p_values = t.sf(abs(t_score),  X.shape[0] - X.shape[1])*2 # duas caudas multiplica por 2\n",
    "\n",
    "##  Usando Statsmodels ##\n",
    "conf_interval_sm = result.conf_int()\n",
    "p_values_sm = result.pvalues\n",
    "\n",
    "display(Markdown(rf'### Intervalos de Confiança'))\n",
    "print(conf_interval)\n",
    "print('\\n')\n",
    "print('Statsmodels:\\n',conf_interval_sm)\n",
    "\n",
    "display(Markdown(rf'### P-valor'))\n",
    "print(p_values)\n",
    "print('\\n')\n",
    "print('Statsmodels:\\n',p_values_sm)"
   ]
  },
  {
   "cell_type": "markdown",
   "id": "0f16dda7",
   "metadata": {},
   "source": [
    "### 2. A questão anterior adicionamos uma variável _dummy_, que representa a existência ou não de determinado atributo.\n"
   ]
  },
  {
   "cell_type": "code",
   "execution_count": 20,
   "id": "57db8194",
   "metadata": {},
   "outputs": [
    {
     "data": {
      "text/html": [
       "<div>\n",
       "<style scoped>\n",
       "    .dataframe tbody tr th:only-of-type {\n",
       "        vertical-align: middle;\n",
       "    }\n",
       "\n",
       "    .dataframe tbody tr th {\n",
       "        vertical-align: top;\n",
       "    }\n",
       "\n",
       "    .dataframe thead th {\n",
       "        text-align: right;\n",
       "    }\n",
       "</style>\n",
       "<table border=\"1\" class=\"dataframe\">\n",
       "  <thead>\n",
       "    <tr style=\"text-align: right;\">\n",
       "      <th></th>\n",
       "      <th>Y</th>\n",
       "      <th>X2</th>\n",
       "      <th>X3</th>\n",
       "      <th>Dummy</th>\n",
       "    </tr>\n",
       "  </thead>\n",
       "  <tbody>\n",
       "    <tr>\n",
       "      <th>0</th>\n",
       "      <td>800.0</td>\n",
       "      <td>2.0</td>\n",
       "      <td>0.8</td>\n",
       "      <td>1.0</td>\n",
       "    </tr>\n",
       "    <tr>\n",
       "      <th>1</th>\n",
       "      <td>1160.0</td>\n",
       "      <td>4.0</td>\n",
       "      <td>0.7</td>\n",
       "      <td>1.0</td>\n",
       "    </tr>\n",
       "    <tr>\n",
       "      <th>2</th>\n",
       "      <td>1580.0</td>\n",
       "      <td>6.0</td>\n",
       "      <td>0.5</td>\n",
       "      <td>1.0</td>\n",
       "    </tr>\n",
       "    <tr>\n",
       "      <th>3</th>\n",
       "      <td>2010.0</td>\n",
       "      <td>8.0</td>\n",
       "      <td>0.4</td>\n",
       "      <td>1.0</td>\n",
       "    </tr>\n",
       "    <tr>\n",
       "      <th>4</th>\n",
       "      <td>1890.0</td>\n",
       "      <td>7.0</td>\n",
       "      <td>0.2</td>\n",
       "      <td>1.0</td>\n",
       "    </tr>\n",
       "    <tr>\n",
       "      <th>5</th>\n",
       "      <td>2600.0</td>\n",
       "      <td>12.0</td>\n",
       "      <td>0.2</td>\n",
       "      <td>1.0</td>\n",
       "    </tr>\n",
       "    <tr>\n",
       "      <th>6</th>\n",
       "      <td>2070.0</td>\n",
       "      <td>11.0</td>\n",
       "      <td>0.8</td>\n",
       "      <td>0.0</td>\n",
       "    </tr>\n",
       "    <tr>\n",
       "      <th>7</th>\n",
       "      <td>1890.0</td>\n",
       "      <td>10.0</td>\n",
       "      <td>0.7</td>\n",
       "      <td>0.0</td>\n",
       "    </tr>\n",
       "    <tr>\n",
       "      <th>8</th>\n",
       "      <td>1830.0</td>\n",
       "      <td>9.0</td>\n",
       "      <td>0.6</td>\n",
       "      <td>0.0</td>\n",
       "    </tr>\n",
       "    <tr>\n",
       "      <th>9</th>\n",
       "      <td>1740.0</td>\n",
       "      <td>8.0</td>\n",
       "      <td>0.1</td>\n",
       "      <td>0.0</td>\n",
       "    </tr>\n",
       "    <tr>\n",
       "      <th>10</th>\n",
       "      <td>1380.0</td>\n",
       "      <td>6.0</td>\n",
       "      <td>0.5</td>\n",
       "      <td>0.0</td>\n",
       "    </tr>\n",
       "    <tr>\n",
       "      <th>11</th>\n",
       "      <td>1060.0</td>\n",
       "      <td>4.0</td>\n",
       "      <td>0.4</td>\n",
       "      <td>0.0</td>\n",
       "    </tr>\n",
       "  </tbody>\n",
       "</table>\n",
       "</div>"
      ],
      "text/plain": [
       "         Y    X2   X3  Dummy\n",
       "0    800.0   2.0  0.8    1.0\n",
       "1   1160.0   4.0  0.7    1.0\n",
       "2   1580.0   6.0  0.5    1.0\n",
       "3   2010.0   8.0  0.4    1.0\n",
       "4   1890.0   7.0  0.2    1.0\n",
       "5   2600.0  12.0  0.2    1.0\n",
       "6   2070.0  11.0  0.8    0.0\n",
       "7   1890.0  10.0  0.7    0.0\n",
       "8   1830.0   9.0  0.6    0.0\n",
       "9   1740.0   8.0  0.1    0.0\n",
       "10  1380.0   6.0  0.5    0.0\n",
       "11  1060.0   4.0  0.4    0.0"
      ]
     },
     "execution_count": 20,
     "metadata": {},
     "output_type": "execute_result"
    }
   ],
   "source": [
    "\n",
    "# %% (================== Questão 2 ===================) #\n",
    "\n",
    "cols = 'Y X2 X3 Dummy'\n",
    "vals = '''800 2 0,8 1\n",
    "1160 4 0,7 1\n",
    "1580 6 0,5 1\n",
    "2010 8 0,4 1\n",
    "1890 7 0,2 1\n",
    "2600 12 0,2 1\n",
    "2070 11 0,8 0\n",
    "1890 10 0,7 0\n",
    "1830 9 0,6 0\n",
    "1740 8 0,1 0\n",
    "1380 6 0,5 0\n",
    "1060 4 0,4 0'''\n",
    "\n",
    "# Transformando em Matrizes\n",
    "\n",
    "A = get_matrix(v = vals, c= cols)\n",
    "Y = A[:,0]\n",
    "X = A.copy()\n",
    "X[:,0] = 1\n",
    "\n",
    "# Y = b1 + b2X2 + b3X3 + b4D + vt\n",
    "\n",
    "# OLS via Statsmodels\n",
    "df = pd.DataFrame(A,columns=cols.split(' '))\n",
    "df_exog = sm.add_constant(df.iloc[:,1:])\n",
    "model = sm.OLS(df.iloc[:,0], df_exog)\n",
    "result = model.fit()\n",
    "df"
   ]
  },
  {
   "cell_type": "markdown",
   "id": "b183412b",
   "metadata": {},
   "source": [
    "#### 2A. Calcule os parâmetros $\\beta_1, \\beta_2, \\beta_3$ desse modelo."
   ]
  },
  {
   "cell_type": "code",
   "execution_count": 9,
   "id": "4fb1cde7",
   "metadata": {},
   "outputs": [],
   "source": [
    "\n",
    "# %% (========= Item A =========) #\n",
    "B_hat = inv(X.T @ X) @ X.T @ Y\n",
    "\n",
    "##  Usando Statsmodels ##\n",
    "B_hat_sm = result.params\n"
   ]
  },
  {
   "cell_type": "markdown",
   "id": "07578fb0",
   "metadata": {},
   "source": [
    "#### 2B. Monte a matriz de residuos deste modelo. Calcule a soma dos quadrados dos resíduos utilizando método matricial."
   ]
  },
  {
   "cell_type": "code",
   "execution_count": 10,
   "id": "55f1b4d5",
   "metadata": {},
   "outputs": [],
   "source": [
    "# %% (========= Item B =========) #\n",
    "u_hat = (Y - X @ B_hat)\n",
    "SSR = u_hat.T @ u_hat \n",
    "\n",
    "##  Usando Statsmodels ##\n",
    "SSR_sm = sum(np.square(result.resid))"
   ]
  },
  {
   "cell_type": "markdown",
   "id": "d07df019",
   "metadata": {},
   "source": [
    "#### 2C. Calcule o r2 deste modelo."
   ]
  },
  {
   "cell_type": "code",
   "execution_count": 11,
   "id": "4b240709",
   "metadata": {},
   "outputs": [],
   "source": [
    "# %% (========= Item C =========) #\n",
    "SST = sum(np.square(Y - np.repeat(np.mean(Y),len(Y))))\n",
    "SSE = SST - SSR\n",
    "R2 = SSE/SST\n",
    "\n",
    "##  Usando Statsmodels ##\n",
    "R2_sm = result.rsquared"
   ]
  },
  {
   "cell_type": "markdown",
   "id": "2f187fb2",
   "metadata": {},
   "source": [
    "#### 2D. Monte a matriz de variância e covariância deste modelo."
   ]
  },
  {
   "cell_type": "code",
   "execution_count": 12,
   "id": "f52d43f9",
   "metadata": {},
   "outputs": [],
   "source": [
    "# %% (========= Item D =========) #\n",
    "sigma_2 = SSR/(X.shape[0] - X.shape[1])\n",
    "vcov = sigma_2 * inv(X.T @ X)\n",
    "\n",
    "##  Usando Statsmodels ##\n",
    "vcov_sm = result.cov_params()"
   ]
  },
  {
   "cell_type": "markdown",
   "id": "2bcce0fb",
   "metadata": {},
   "source": [
    "#### 2E. Verifique se os $\\beta_1, \\beta_2, \\beta_3$ são significantes ao nível de 5% de significância."
   ]
  },
  {
   "cell_type": "code",
   "execution_count": 13,
   "id": "440bf026",
   "metadata": {},
   "outputs": [],
   "source": [
    "# %% (========= Item E =========) #\n",
    "\n",
    "conf_lv = 0.05\n",
    "std_err = np.sqrt(np.diag(vcov))\n",
    "conf_interval = get_confidence_interval(betas=B_hat, std_errors=std_err, \n",
    "                                        vcov = vcov, conf_lv = conf_lv, \n",
    "                                        df = X.shape[0] - X.shape[1])\n",
    "t_score = B_hat/std_err\n",
    "p_values = t.sf(abs(t_score),  X.shape[0] - X.shape[1])*2 # duas caudas multiplica por 2\n",
    "\n",
    "##  Usando Statsmodels ##\n",
    "conf_interval_sm = result.conf_int()\n",
    "p_values_sm = result.pvalues\n"
   ]
  },
  {
   "cell_type": "markdown",
   "id": "f478cc6f",
   "metadata": {},
   "source": [
    "### 3. Use os valores descritos na tabela abaixo para ilustrar que $E[\\Upsilon_i(0)] - E[\\Upsilon_i(1)] = E[\\Upsilon_i(0) - \\Upsilon_i(1)]$"
   ]
  },
  {
   "cell_type": "code",
   "execution_count": 19,
   "id": "0c2f48e4",
   "metadata": {},
   "outputs": [
    {
     "data": {
      "text/html": [
       "<div>\n",
       "<style scoped>\n",
       "    .dataframe tbody tr th:only-of-type {\n",
       "        vertical-align: middle;\n",
       "    }\n",
       "\n",
       "    .dataframe tbody tr th {\n",
       "        vertical-align: top;\n",
       "    }\n",
       "\n",
       "    .dataframe thead th {\n",
       "        text-align: right;\n",
       "    }\n",
       "</style>\n",
       "<table border=\"1\" class=\"dataframe\">\n",
       "  <thead>\n",
       "    <tr style=\"text-align: right;\">\n",
       "      <th></th>\n",
       "      <th>Yi(0)</th>\n",
       "      <th>Yi(1)</th>\n",
       "      <th>t1</th>\n",
       "    </tr>\n",
       "    <tr>\n",
       "      <th>Vila(i)</th>\n",
       "      <th></th>\n",
       "      <th></th>\n",
       "      <th></th>\n",
       "    </tr>\n",
       "  </thead>\n",
       "  <tbody>\n",
       "    <tr>\n",
       "      <th>vila1</th>\n",
       "      <td>10</td>\n",
       "      <td>15</td>\n",
       "      <td>5</td>\n",
       "    </tr>\n",
       "    <tr>\n",
       "      <th>vila2</th>\n",
       "      <td>15</td>\n",
       "      <td>15</td>\n",
       "      <td>0</td>\n",
       "    </tr>\n",
       "    <tr>\n",
       "      <th>vila3</th>\n",
       "      <td>20</td>\n",
       "      <td>30</td>\n",
       "      <td>10</td>\n",
       "    </tr>\n",
       "    <tr>\n",
       "      <th>vila4</th>\n",
       "      <td>20</td>\n",
       "      <td>15</td>\n",
       "      <td>-5</td>\n",
       "    </tr>\n",
       "    <tr>\n",
       "      <th>vila5</th>\n",
       "      <td>10</td>\n",
       "      <td>20</td>\n",
       "      <td>10</td>\n",
       "    </tr>\n",
       "    <tr>\n",
       "      <th>vila6</th>\n",
       "      <td>15</td>\n",
       "      <td>15</td>\n",
       "      <td>0</td>\n",
       "    </tr>\n",
       "    <tr>\n",
       "      <th>vila7</th>\n",
       "      <td>15</td>\n",
       "      <td>30</td>\n",
       "      <td>5</td>\n",
       "    </tr>\n",
       "    <tr>\n",
       "      <th>average</th>\n",
       "      <td>15</td>\n",
       "      <td>20</td>\n",
       "      <td>5</td>\n",
       "    </tr>\n",
       "  </tbody>\n",
       "</table>\n",
       "</div>"
      ],
      "text/plain": [
       "        Yi(0) Yi(1)  t1\n",
       "Vila(i)                \n",
       "vila1      10    15   5\n",
       "vila2      15    15   0\n",
       "vila3      20    30  10\n",
       "vila4      20    15  -5\n",
       "vila5      10    20  10\n",
       "vila6      15    15   0\n",
       "vila7      15    30   5\n",
       "average    15    20   5"
      ]
     },
     "execution_count": 19,
     "metadata": {},
     "output_type": "execute_result"
    }
   ],
   "source": [
    "# %% (================== Questão 3 ===================) #\n",
    "\n",
    "cols = 'Vila(i) Yi(0) Yi(1) t1'\n",
    "vals = '''vila1 10 15 5\n",
    "vila2 15 15 0\n",
    "vila3 20 30 10\n",
    "vila4 20 15 -5\n",
    "vila5 10 20 10\n",
    "vila6 15 15 0\n",
    "vila7 15 30 5\n",
    "average 15 20 5'''\n",
    "\n",
    "A = get_matrix(v = vals, c= cols, convert=False)\n",
    "Yi = A[:,1:].astype(float)\n",
    "df = pd.DataFrame(A,columns = cols.split(' '))\n",
    "df.index = df.iloc[:,0]\n",
    "df = df.iloc[:,1:]\n",
    "df"
   ]
  },
  {
   "cell_type": "code",
   "execution_count": 15,
   "id": "ee7bdb8e",
   "metadata": {},
   "outputs": [
    {
     "data": {
      "text/plain": [
       "True"
      ]
     },
     "execution_count": 15,
     "metadata": {},
     "output_type": "execute_result"
    }
   ],
   "source": [
    "# E[Yi(0)] 􀀀 E[Yi(1)] = E[Yi(0) - Yi(1)]\n",
    "np.mean(Yi[:,0]) - np.mean(Yi[:,1]) == np.mean(Yi[:,0] - Yi[:,1]) "
   ]
  },
  {
   "cell_type": "markdown",
   "id": "41a62088",
   "metadata": {},
   "source": [
    "### 4. Demonstre como chegar nessa igualdade:\n",
    "\n",
    "### $ \\frac{1}{N_t} \\sum_{i=1}^n(y_i | d_i = 1) - \\frac{1}{N_C} \\sum_{i=1}^n (y_i | d_i = 0) =  E[\\Upsilon^1] - E[\\Upsilon^0] + E[\\Upsilon^0 | D = 1] - E[\\Upsilon^0 | D = 0] + (1 - \\pi)$\n",
    "\n",
    "#### ou\n",
    "\n",
    "#### $SDO = ATE + \\text{Selection bias} + \\text{Heterogeneous treatment effect bias}$\n"
   ]
  },
  {
   "cell_type": "code",
   "execution_count": null,
   "id": "457ad982",
   "metadata": {},
   "outputs": [],
   "source": []
  },
  {
   "cell_type": "markdown",
   "id": "7f6b9998",
   "metadata": {},
   "source": [
    "### 5. Em que condições teremos a seguinte igualdade? Justifique.\n",
    "\n",
    "### $ \\frac{1}{N_t} \\sum_{i=1}^n(y_i | d_i = 1) - \\frac{1}{N_C} \\sum_{i=1}^n (y_i | d_i = 0) =  E[\\Upsilon^1] - E[\\Upsilon^0]$\n",
    "\n",
    "#### ou\n",
    "\n",
    "#### $SDO = ATE$"
   ]
  },
  {
   "cell_type": "code",
   "execution_count": null,
   "id": "7ab58336",
   "metadata": {},
   "outputs": [],
   "source": []
  },
  {
   "cell_type": "markdown",
   "id": "27d86506",
   "metadata": {},
   "source": [
    "### 6. Suponha que um laboratório esteja testando um novo medicamento que tem como objetivo prolongar a vida de pacientes com câncer. Para realizar o estudo, os cientistas irao dividir sua amostra em dois grupos. Os indivíduos pares são os indivíduos do grupo tratamento e que tomam o medicamento, enquanto que os indivíduos ímpares pertencem ao grupo controle e tomam um placebo. Os efeitos dos medicamento são adversos. Suponha que se o paciente tomar o medicamento, entao ele terá a expectativa de vida $\\Upsilon_i^1$ adicional. De maneira análoga, se o paciente tomar o placebo, entao ele terá a expectativa de vida $\\Upsilon_i^2$ adicional.\n"
   ]
  },
  {
   "cell_type": "code",
   "execution_count": 18,
   "id": "fd3b430f",
   "metadata": {},
   "outputs": [
    {
     "data": {
      "text/html": [
       "<div>\n",
       "<style scoped>\n",
       "    .dataframe tbody tr th:only-of-type {\n",
       "        vertical-align: middle;\n",
       "    }\n",
       "\n",
       "    .dataframe tbody tr th {\n",
       "        vertical-align: top;\n",
       "    }\n",
       "\n",
       "    .dataframe thead th {\n",
       "        text-align: right;\n",
       "    }\n",
       "</style>\n",
       "<table border=\"1\" class=\"dataframe\">\n",
       "  <thead>\n",
       "    <tr style=\"text-align: right;\">\n",
       "      <th></th>\n",
       "      <th>Y1</th>\n",
       "      <th>Y2</th>\n",
       "    </tr>\n",
       "    <tr>\n",
       "      <th>Paciente</th>\n",
       "      <th></th>\n",
       "      <th></th>\n",
       "    </tr>\n",
       "  </thead>\n",
       "  <tbody>\n",
       "    <tr>\n",
       "      <th>1</th>\n",
       "      <td>8</td>\n",
       "      <td>6</td>\n",
       "    </tr>\n",
       "    <tr>\n",
       "      <th>2</th>\n",
       "      <td>9</td>\n",
       "      <td>5</td>\n",
       "    </tr>\n",
       "    <tr>\n",
       "      <th>3</th>\n",
       "      <td>8</td>\n",
       "      <td>4</td>\n",
       "    </tr>\n",
       "    <tr>\n",
       "      <th>4</th>\n",
       "      <td>4</td>\n",
       "      <td>3</td>\n",
       "    </tr>\n",
       "    <tr>\n",
       "      <th>5</th>\n",
       "      <td>7</td>\n",
       "      <td>2</td>\n",
       "    </tr>\n",
       "    <tr>\n",
       "      <th>6</th>\n",
       "      <td>1</td>\n",
       "      <td>1</td>\n",
       "    </tr>\n",
       "    <tr>\n",
       "      <th>7</th>\n",
       "      <td>5</td>\n",
       "      <td>4</td>\n",
       "    </tr>\n",
       "    <tr>\n",
       "      <th>8</th>\n",
       "      <td>7</td>\n",
       "      <td>6</td>\n",
       "    </tr>\n",
       "    <tr>\n",
       "      <th>9</th>\n",
       "      <td>5</td>\n",
       "      <td>4</td>\n",
       "    </tr>\n",
       "    <tr>\n",
       "      <th>10</th>\n",
       "      <td>4</td>\n",
       "      <td>5</td>\n",
       "    </tr>\n",
       "    <tr>\n",
       "      <th>11</th>\n",
       "      <td>5</td>\n",
       "      <td>2</td>\n",
       "    </tr>\n",
       "    <tr>\n",
       "      <th>12</th>\n",
       "      <td>10</td>\n",
       "      <td>3</td>\n",
       "    </tr>\n",
       "    <tr>\n",
       "      <th>13</th>\n",
       "      <td>5</td>\n",
       "      <td>4</td>\n",
       "    </tr>\n",
       "    <tr>\n",
       "      <th>14</th>\n",
       "      <td>10</td>\n",
       "      <td>5</td>\n",
       "    </tr>\n",
       "    <tr>\n",
       "      <th>15</th>\n",
       "      <td>2</td>\n",
       "      <td>1</td>\n",
       "    </tr>\n",
       "  </tbody>\n",
       "</table>\n",
       "</div>"
      ],
      "text/plain": [
       "          Y1 Y2\n",
       "Paciente       \n",
       "1          8  6\n",
       "2          9  5\n",
       "3          8  4\n",
       "4          4  3\n",
       "5          7  2\n",
       "6          1  1\n",
       "7          5  4\n",
       "8          7  6\n",
       "9          5  4\n",
       "10         4  5\n",
       "11         5  2\n",
       "12        10  3\n",
       "13         5  4\n",
       "14        10  5\n",
       "15         2  1"
      ]
     },
     "execution_count": 18,
     "metadata": {},
     "output_type": "execute_result"
    }
   ],
   "source": [
    "# %% (================== Questão 6 ===================) #\n",
    "\n",
    "# Dados\n",
    "cols = 'Paciente Y1 Y2'\n",
    "vals = '''1 8 6\n",
    "2 9 5\n",
    "3 8 4\n",
    "4 4 3\n",
    "5 7 2\n",
    "6 1 1\n",
    "7 5 4\n",
    "8 7 6\n",
    "9 5 4\n",
    "10 4 5\n",
    "11 5 2\n",
    "12 10 3\n",
    "13 5 4\n",
    "14 10 5\n",
    "15 2 1'''\n",
    "\n",
    "A = get_matrix(v = vals, c= cols, convert=False)\n",
    "Yi = A[:,1:].astype(float)\n",
    "df = pd.DataFrame(A,columns = cols.split(' '))\n",
    "df.index = df.iloc[:,0]\n",
    "df = df.iloc[:,1:]\n",
    "df"
   ]
  },
  {
   "cell_type": "markdown",
   "id": "6372836c",
   "metadata": {},
   "source": [
    "#### 6A. Calcule os Efeitos medios de tratamento."
   ]
  },
  {
   "cell_type": "markdown",
   "id": "d07df019",
   "metadata": {},
   "source": [
    "#### 6B.  Calcule os efeitos medios do grupo de tratamento . "
   ]
  },
  {
   "cell_type": "markdown",
   "id": "d07df019",
   "metadata": {},
   "source": [
    "#### 6C. Calcule os efeitos medios do grupo de controle."
   ]
  },
  {
   "cell_type": "markdown",
   "id": "d8eb1e23",
   "metadata": {},
   "source": [
    "#### 6D. O que voce conclui sobre a eficácia do novo medicamento? "
   ]
  },
  {
   "cell_type": "markdown",
   "id": "71c53996",
   "metadata": {},
   "source": [
    "### 7. Um determinado grupo de pesquisadores quer analisar a taxa de mortalidade média entre fumadores de cigarro e fumadores de cachimbo/charuto. Os pesquisadores possuem os dados da ”tabela 2”, em que há informações sobre a classificação etária dos indivíduos e a taxa de mortalidade para cada subgrupo."
   ]
  },
  {
   "cell_type": "code",
   "execution_count": null,
   "id": "86aa0a4e",
   "metadata": {},
   "outputs": [],
   "source": [
    "# %% (================== Questão 6 ===================) #\n",
    "\n",
    "# Dados\n",
    "cols = 'Age_range Death_sates_Cigarette_smokers of_Cigarette_smokers of_Pipe_or_cigar_smokers'\n",
    "vals = '''1 8 6\n",
    "2 9 5\n",
    "3 8 4\n",
    "4 4 3\n",
    "5 7 2\n",
    "6 1 1\n",
    "7 5 4\n",
    "8 7 6\n",
    "9 5 4\n",
    "10 4 5\n",
    "11 5 2\n",
    "12 10 3\n",
    "13 5 4\n",
    "14 10 5\n",
    "15 2 1'''\n",
    "\n",
    "A = get_matrix(v = vals, c= cols, convert=False)\n",
    "Yi = A[:,1:].astype(float)\n",
    "df = pd.DataFrame(A,columns = cols.split(' '))\n",
    "df.index = df.iloc[:,0]\n",
    "df = df.iloc[:,1:]\n",
    "df"
   ]
  },
  {
   "cell_type": "markdown",
   "id": "f278ffcd",
   "metadata": {},
   "source": [
    "### 8. A tabela 3 fornece informac¸oes sobre idade e rendimento salarial de dois grupos, ˜trainees e non − trainees. Sabendo que o metodo de ´ Matched Sample e o mais ade- ´quado para comparac¸ao entre esses dois grupos, analise a diferenc¸a salarial entre ˜trainees e non − trainees. Ha diferenc¸a salarial? Monte a tabela de ´ Matched Sample ."
   ]
  },
  {
   "cell_type": "code",
   "execution_count": null,
   "id": "92acf17f",
   "metadata": {},
   "outputs": [],
   "source": []
  },
  {
   "cell_type": "markdown",
   "id": "b2c43188",
   "metadata": {},
   "source": [
    "### 9. Em qual situac¸ao o uso de regress ˜ ao em discontinuidade ˜ e recomendado? D ´ e um ˆexemplo pratico e disserte sobre as vantagens desse m ´ etodo."
   ]
  },
  {
   "cell_type": "code",
   "execution_count": null,
   "id": "f9da918e",
   "metadata": {},
   "outputs": [],
   "source": []
  },
  {
   "cell_type": "markdown",
   "id": "7dad1aa9",
   "metadata": {},
   "source": [
    "### 10. Imagine dois alunos - o primeiro aluno obteve 1240 e o segundo 1250. Esses doisalunos sao realmente t ˜ ao diferentes um do outro? Bem, claro: esses dois alunos in- ˜dividuais sao provavelmente muito diferentes. Mas e se tiv ˜ essemos centenas de ´alunos que tiraram 1240 e centenas mais que fizeram 1250. Voce n ˆ ao acha que ˜esses dois grupos sao provavelmente muito semelhantes um ao outro em carac- ˜ter´ısticas observaveis e inobserv ´ aveis? Afinal, por que haveria de repente em 1250 ´uma grande diferenc¸a nas caracter´ısticas dos alunos em uma grande amostra? Essae a quest ´ ao sobre a qual voc ˜ e deve refletir. Se a universidade est ˆ a escolhendo arbi- ´trariamente um ponto de corte razoavel, h ´ a motivos para acreditar que ela tamb ´ em´esta escolhendo um ponto de corte em que a habilidade natural dos alunos salta ´exatamente naquele ponto? Para analisar isso , Hoekstra (2009) realizou um estudo,utilizando dados disponibilizados por uma universidade estadual americana, em que realizou a seguinte estimac¸ao."
   ]
  },
  {
   "cell_type": "markdown",
   "id": "d8d50a18",
   "metadata": {},
   "source": []
  },
  {
   "cell_type": "code",
   "execution_count": null,
   "id": "2f58f903",
   "metadata": {},
   "outputs": [],
   "source": []
  }
 ],
 "metadata": {
  "kernelspec": {
   "display_name": "Python 3",
   "language": "python",
   "name": "python3"
  },
  "language_info": {
   "codemirror_mode": {
    "name": "ipython",
    "version": 3
   },
   "file_extension": ".py",
   "mimetype": "text/x-python",
   "name": "python",
   "nbconvert_exporter": "python",
   "pygments_lexer": "ipython3",
   "version": "3.9.5"
  }
 },
 "nbformat": 4,
 "nbformat_minor": 5
}

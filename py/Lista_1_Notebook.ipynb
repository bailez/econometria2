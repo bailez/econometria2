{
 "cells": [
  {
   "cell_type": "markdown",
   "id": "aa5cfd6f",
   "metadata": {},
   "source": [
    "### Lista 1 - Econometria 2\n",
    "\n",
    "* MQO\n",
    "* Potential Outcomes\n",
    "* Matching\n",
    "* RDD"
   ]
  },
  {
   "cell_type": "code",
   "execution_count": 1,
   "id": "45ea343c",
   "metadata": {},
   "outputs": [],
   "source": [
    "import numpy as np\n",
    "from numpy.linalg import inv\n",
    "import pandas as pd\n",
    "import statsmodels.api as sm\n",
    "from scipy.stats import t\n",
    "from IPython.display import display, Markdown\n",
    "\n",
    "np.set_printoptions(suppress=True)\n",
    "\n",
    "def get_matrix(v, c, convert=True):\n",
    "    c = c.split(' ')\n",
    "    v = v.replace('\\n',' ').replace(',','.').split(' ')\n",
    "    s = (int(len(v)/len(c)),len(c))\n",
    "    if convert:\n",
    "        v = np.array(v).astype(float)\n",
    "    else:\n",
    "        v = np.array(v)\n",
    "    matrix = np.reshape(v, s)\n",
    "    return matrix\n",
    "\n",
    "def get_confidence_interval(betas, std_errors, vcov, \n",
    "                            conf_lv, df):\n",
    "    t_score = t.ppf(1 - conf_lv, df)\n",
    "    conf_inter = []\n",
    "    for i in range(len(betas)):\n",
    "        upper_bound = betas[i] + t_score*std_err[i]\n",
    "        lower_bound = betas[i] - t_score*std_err[i]\n",
    "        conf_inter.append((lower_bound,upper_bound))\n",
    "    return conf_inter"
   ]
  },
  {
   "cell_type": "markdown",
   "id": "78a540c1",
   "metadata": {},
   "source": [
    "## 1.\n",
    "Com os dados da tabela abaixo, estime a regressãoo de $Y$ em função de $X_2$ e $X_3$ e faça os testes da regressão e de cada um dos parâmetros.\n"
   ]
  },
  {
   "cell_type": "code",
   "execution_count": 2,
   "id": "3592c554",
   "metadata": {},
   "outputs": [
    {
     "data": {
      "text/html": [
       "<div>\n",
       "<style scoped>\n",
       "    .dataframe tbody tr th:only-of-type {\n",
       "        vertical-align: middle;\n",
       "    }\n",
       "\n",
       "    .dataframe tbody tr th {\n",
       "        vertical-align: top;\n",
       "    }\n",
       "\n",
       "    .dataframe thead th {\n",
       "        text-align: right;\n",
       "    }\n",
       "</style>\n",
       "<table border=\"1\" class=\"dataframe\">\n",
       "  <thead>\n",
       "    <tr style=\"text-align: right;\">\n",
       "      <th></th>\n",
       "      <th>Y</th>\n",
       "      <th>X2</th>\n",
       "      <th>X3</th>\n",
       "    </tr>\n",
       "  </thead>\n",
       "  <tbody>\n",
       "    <tr>\n",
       "      <th>0</th>\n",
       "      <td>800.0</td>\n",
       "      <td>2.0</td>\n",
       "      <td>0.8</td>\n",
       "    </tr>\n",
       "    <tr>\n",
       "      <th>1</th>\n",
       "      <td>1160.0</td>\n",
       "      <td>4.0</td>\n",
       "      <td>0.7</td>\n",
       "    </tr>\n",
       "    <tr>\n",
       "      <th>2</th>\n",
       "      <td>1580.0</td>\n",
       "      <td>6.0</td>\n",
       "      <td>0.5</td>\n",
       "    </tr>\n",
       "    <tr>\n",
       "      <th>3</th>\n",
       "      <td>2010.0</td>\n",
       "      <td>8.0</td>\n",
       "      <td>0.4</td>\n",
       "    </tr>\n",
       "    <tr>\n",
       "      <th>4</th>\n",
       "      <td>1890.0</td>\n",
       "      <td>7.0</td>\n",
       "      <td>0.2</td>\n",
       "    </tr>\n",
       "    <tr>\n",
       "      <th>5</th>\n",
       "      <td>2600.0</td>\n",
       "      <td>12.0</td>\n",
       "      <td>0.2</td>\n",
       "    </tr>\n",
       "    <tr>\n",
       "      <th>6</th>\n",
       "      <td>2070.0</td>\n",
       "      <td>11.0</td>\n",
       "      <td>0.8</td>\n",
       "    </tr>\n",
       "    <tr>\n",
       "      <th>7</th>\n",
       "      <td>1890.0</td>\n",
       "      <td>10.0</td>\n",
       "      <td>0.7</td>\n",
       "    </tr>\n",
       "    <tr>\n",
       "      <th>8</th>\n",
       "      <td>1830.0</td>\n",
       "      <td>9.0</td>\n",
       "      <td>0.6</td>\n",
       "    </tr>\n",
       "    <tr>\n",
       "      <th>9</th>\n",
       "      <td>1740.0</td>\n",
       "      <td>8.0</td>\n",
       "      <td>0.1</td>\n",
       "    </tr>\n",
       "    <tr>\n",
       "      <th>10</th>\n",
       "      <td>1380.0</td>\n",
       "      <td>6.0</td>\n",
       "      <td>0.5</td>\n",
       "    </tr>\n",
       "    <tr>\n",
       "      <th>11</th>\n",
       "      <td>1060.0</td>\n",
       "      <td>4.0</td>\n",
       "      <td>0.4</td>\n",
       "    </tr>\n",
       "  </tbody>\n",
       "</table>\n",
       "</div>"
      ],
      "text/plain": [
       "         Y    X2   X3\n",
       "0    800.0   2.0  0.8\n",
       "1   1160.0   4.0  0.7\n",
       "2   1580.0   6.0  0.5\n",
       "3   2010.0   8.0  0.4\n",
       "4   1890.0   7.0  0.2\n",
       "5   2600.0  12.0  0.2\n",
       "6   2070.0  11.0  0.8\n",
       "7   1890.0  10.0  0.7\n",
       "8   1830.0   9.0  0.6\n",
       "9   1740.0   8.0  0.1\n",
       "10  1380.0   6.0  0.5\n",
       "11  1060.0   4.0  0.4"
      ]
     },
     "execution_count": 2,
     "metadata": {},
     "output_type": "execute_result"
    }
   ],
   "source": [
    "# %% (================== Questão 1 ===================) #\n",
    "\n",
    "# Dados\n",
    "\n",
    "cols = 'Y X2 X3'\n",
    "vals ='''800 2 0,8\n",
    "1160 4 0,7\n",
    "1580 6 0,5\n",
    "2010 8 0,4\n",
    "1890 7 0,2\n",
    "2600 12 0,2\n",
    "2070 11 0,8\n",
    "1890 10 0,7\n",
    "1830 9 0,6\n",
    "1740 8 0,1\n",
    "1380 6 0,5\n",
    "1060 4 0,4'''\n",
    "\n",
    "# Transformando em Matrizes\n",
    "\n",
    "A = get_matrix(v = vals, c= cols)\n",
    "Y = A[:,0]\n",
    "X = A.copy()\n",
    "X[:,0] = 1\n",
    "\n",
    "# Modelo a ser estimado\n",
    "# Y = b1 + b2X2 + b3X3 + vt \n",
    "\n",
    "# OLS via Statsmodels\n",
    "df = pd.DataFrame(A,columns=cols.split(' '))\n",
    "df_exog = sm.add_constant(df.iloc[:,1:])\n",
    "model = sm.OLS(df.iloc[:,0], df_exog)\n",
    "result = model.fit()\n",
    "df"
   ]
  },
  {
   "cell_type": "markdown",
   "id": "05d5f137",
   "metadata": {},
   "source": [
    "### 1A. \n",
    "\n",
    "Calcule os parâmetros $\\beta_1, \\beta_2, \\beta_3$ desse modelo.\n",
    "\n",
    "Formulas:\n",
    "\n",
    "$\\hat{\\beta} = X'X^{-1}X'Y$"
   ]
  },
  {
   "cell_type": "code",
   "execution_count": 3,
   "id": "754fa055",
   "metadata": {},
   "outputs": [
    {
     "name": "stdout",
     "output_type": "stream",
     "text": [
      "Via matrizes: [ 789.32955999  149.55929799 -419.25655004]\n",
      "\n",
      "\n",
      "* Via Statsmodels:\n",
      " const    789.329560\n",
      "X2       149.559298\n",
      "X3      -419.256550\n",
      "dtype: float64\n"
     ]
    }
   ],
   "source": [
    "# %%  (========= Item A =========) #\n",
    "\n",
    "# Estimando Beta por meio de Matriz (pg 757 Wooldridge)\n",
    "# B_hat = (X'X)^-1 X'y\n",
    "\n",
    "B_hat = inv(X.T @ X) @ X.T @ Y\n",
    "\n",
    "##  Usando Statsmodels ##\n",
    "B_hat_sm = result.params\n",
    "\n",
    "print('Via matrizes:',B_hat)\n",
    "print('\\n')\n",
    "print('* Via Statsmodels:\\n',B_hat_sm)"
   ]
  },
  {
   "cell_type": "markdown",
   "id": "043b38b4",
   "metadata": {},
   "source": [
    "### 1B. \n",
    "\n",
    "Monte a matriz de residuos deste modelo. Calcule a soma dos quadrados dos resíduos utilizando método matricial.\n",
    "\n",
    "\n",
    "Formulas:\n",
    "\n",
    "$SSR = (Y - X \\hat{\\beta})'(Y - X \\hat{\\beta}) $\n",
    "\n",
    "$SSR = \\hat{u}'\\hat{u}$\n",
    "\n",
    "$\\hat{u} = (Y - X \\hat{\\beta}) $"
   ]
  },
  {
   "cell_type": "code",
   "execution_count": 4,
   "id": "1741b562",
   "metadata": {},
   "outputs": [
    {
     "data": {
      "text/markdown": [
       "$ SSR = 173444.01874617563$"
      ],
      "text/plain": [
       "<IPython.core.display.Markdown object>"
      ]
     },
     "metadata": {},
     "output_type": "display_data"
    },
    {
     "data": {
      "text/markdown": [
       "\n",
       " Statsmodels: \n",
       "\n",
       " $ SSR = 173444.01874617557$"
      ],
      "text/plain": [
       "<IPython.core.display.Markdown object>"
      ]
     },
     "metadata": {},
     "output_type": "display_data"
    }
   ],
   "source": [
    "# %% (========= Item B =========) #\n",
    "\n",
    "# Estimando Soma dos quadrados dos residuos por meio de Matriz (pg 757 Wooldridge)\n",
    "# SSR = (y - XB_hat)' (Y - XB_hat)\n",
    "# SSR = u_hat' u_hat\n",
    "# u_hat = y - XB_hat\n",
    "\n",
    "u_hat = (Y - X @ B_hat)\n",
    "SSR = u_hat.T @ u_hat \n",
    "\n",
    "##  Usando Statsmodels ##\n",
    "SSR_sm = sum(np.square(result.resid))\n",
    "\n",
    "display(Markdown(rf'$ SSR = {SSR}$'))\n",
    "display(Markdown('\\n Statsmodels: \\n\\n '+ rf'$ SSR = {SSR_sm}$'))"
   ]
  },
  {
   "cell_type": "markdown",
   "id": "adb2e3ac",
   "metadata": {},
   "source": [
    "### 1C. \n",
    "Calcule o r2 deste modelo.\n",
    "\n",
    "Formulas:\n",
    "\n",
    "$SST = \\sum (y_i - \\bar{y})^2 $\n",
    "\n",
    "$SSE = \\sum (\\hat{y_i} - \\bar{y})^2 $\n",
    "\n",
    "$SSR = \\sum (hat{u_i})^2 $\n",
    "\n",
    "$SST = SSE + SSR $\n",
    "\n",
    "$R^2 = SSE/SST = 1 - SSR/SST$"
   ]
  },
  {
   "cell_type": "code",
   "execution_count": 5,
   "id": "3ede5238",
   "metadata": {},
   "outputs": [
    {
     "data": {
      "text/markdown": [
       "$ R^2 = 0.9369070784201032$"
      ],
      "text/plain": [
       "<IPython.core.display.Markdown object>"
      ]
     },
     "metadata": {},
     "output_type": "display_data"
    },
    {
     "data": {
      "text/markdown": [
       "\n",
       " Statsmodels: \n",
       "\n",
       " $R^2 = 0.9369070784201032$"
      ],
      "text/plain": [
       "<IPython.core.display.Markdown object>"
      ]
     },
     "metadata": {},
     "output_type": "display_data"
    }
   ],
   "source": [
    "# %% (========= Item C =========) #\n",
    "\n",
    "# Estimando o R^2 do modelo (pg 38 - 40 Wooldridge)\n",
    "# SST = Sum(Yi - Y_mean) ^ 2\n",
    "# SSE - Sum(Yi_hat - Y_mean) ^ 2\n",
    "# SSR = Sum(u_hat)^2\n",
    "# SST = SSE + SSR\n",
    "# R_squared = SSE/SST = 1 - SSR/SST WE\n",
    "\n",
    "SST = sum(np.square(Y - np.repeat(np.mean(Y),len(Y))))\n",
    "SSE = SST - SSR\n",
    "R2 = SSE/SST\n",
    "\n",
    "##  Usando Statsmodels ##\n",
    "R2_sm = result.rsquared\n",
    "\n",
    "display(Markdown(rf'$ R^2 = {R2}$'))\n",
    "display(Markdown('\\n Statsmodels: \\n\\n '+ rf'$R^2 = {R2_sm}$'))"
   ]
  },
  {
   "cell_type": "markdown",
   "id": "babb6303",
   "metadata": {},
   "source": [
    "### 1D.\n",
    "Monte a matriz de variância e covariância deste modelo.\n",
    "\n",
    "\n",
    "Formulas:\n",
    "\n",
    "$ X'(y - X\\hat{\\beta}) = 0 $\n",
    "\n",
    "$ X' \\hat{u} = 0 $\n",
    "\n",
    "$ \\sigma^2 = SSR/(N - k) $\n",
    "\n",
    "$ Var( u | X ) = \\sigma^2 I_n $\n"
   ]
  },
  {
   "cell_type": "code",
   "execution_count": 6,
   "id": "9e50020a",
   "metadata": {},
   "outputs": [
    {
     "name": "stdout",
     "output_type": "stream",
     "text": [
      "              0            1             2\n",
      "0  24104.991220 -1747.647374 -19990.341607\n",
      "1  -1747.647374   202.342243    570.846328\n",
      "2 -19990.341607   570.846328  32240.757411\n",
      "\n",
      "\n",
      " Statsmodels: \n",
      "               const           X2            X3\n",
      "const  24104.991220 -1747.647374 -19990.341607\n",
      "X2     -1747.647374   202.342243    570.846328\n",
      "X3    -19990.341607   570.846328  32240.757411\n"
     ]
    }
   ],
   "source": [
    "# %% (========= Item D =========) #\n",
    "\n",
    "# Estimando Matriz de Variância-Covariância (pg 759 Wooldridge)\n",
    "# X'(y - XB_hat) = 0\n",
    "# X' * u_hat =  0\n",
    "# sigma2 = SSR/ (N - k)\n",
    "# Var(u | X) =  sigma_2 * In\n",
    "\n",
    "sigma_2 = SSR/(X.shape[0] - X.shape[1])\n",
    "vcov = sigma_2 * inv(X.T @ X)\n",
    "\n",
    "##  Usando Statsmodels ##\n",
    "vcov_sm = result.cov_params()\n",
    "\n",
    "print(pd.DataFrame(vcov))\n",
    "print('\\n\\n Statsmodels: \\n', vcov_sm)"
   ]
  },
  {
   "cell_type": "markdown",
   "id": "fdadbced",
   "metadata": {},
   "source": [
    "### 1E. \n",
    "\n",
    "Verifique se os $\\beta_1, \\beta_2, \\beta_3$ são significantes ao nível de 5% de significância.\n",
    "\n",
    "\n",
    "Formulas:\n",
    "\n",
    "$ \\alpha = 0.05$\n",
    "\n",
    "$ IC = \\hat(\\beta_j) \\pm t_{1-\\alpha, n-k} *  S_{\\hat{\\beta_j}}$\n",
    "\n",
    "$ t = \\frac{\\hat{\\beta}}{S_{\\hat{\\beta_j}}}$"
   ]
  },
  {
   "cell_type": "code",
   "execution_count": 7,
   "id": "b6cc908c",
   "metadata": {},
   "outputs": [
    {
     "data": {
      "text/markdown": [
       "### Intervalos de Confiança"
      ],
      "text/plain": [
       "<IPython.core.display.Markdown object>"
      ]
     },
     "metadata": {},
     "output_type": "display_data"
    },
    {
     "name": "stdout",
     "output_type": "stream",
     "text": [
      "[(504.7244390132717, 1073.934680973375), (123.4838065995088, 175.63478938424845), (-748.4050189975782, -90.10808107474134)]\n",
      "\n",
      "\n",
      "Statsmodels:\n",
      "                 0            1\n",
      "const  438.111966  1140.547154\n",
      "X2     117.380779   181.737817\n",
      "X3    -825.442963   -13.070137\n"
     ]
    },
    {
     "data": {
      "text/markdown": [
       "### P-valor"
      ],
      "text/plain": [
       "<IPython.core.display.Markdown object>"
      ]
     },
     "metadata": {},
     "output_type": "display_data"
    },
    {
     "name": "stdout",
     "output_type": "stream",
     "text": [
      "[0.00065926 0.00000235 0.044386  ]\n",
      "\n",
      "\n",
      "Statsmodels:\n",
      " const    0.000659\n",
      "X2       0.000002\n",
      "X3       0.044386\n",
      "dtype: float64\n"
     ]
    }
   ],
   "source": [
    "# %% (========= Item E =========) #\n",
    "\n",
    "# Verifica a significancia dos Betas a nivel 5%\n",
    "conf_lv = 0.05\n",
    "\n",
    "# Construindo intervalo de Confiança\n",
    "# Formula de IC:\n",
    "#  b1  +/-  (t1-∝/2, n-k) * (erro padrão de b1)\n",
    "  \n",
    "\n",
    "std_err = np.sqrt(np.diag(vcov))\n",
    "conf_interval = get_confidence_interval(betas=B_hat, std_errors=std_err, \n",
    "                                        vcov = vcov, conf_lv = conf_lv, \n",
    "                                        df = X.shape[0] - X.shape[1])\n",
    "\n",
    "# Testes de Hipótese, obtendo Estatística T e Valor-P\n",
    "t_score = B_hat/std_err\n",
    "p_values = t.sf(abs(t_score),  X.shape[0] - X.shape[1])*2 # duas caudas multiplica por 2\n",
    "\n",
    "##  Usando Statsmodels ##\n",
    "conf_interval_sm = result.conf_int()\n",
    "p_values_sm = result.pvalues\n",
    "\n",
    "display(Markdown(rf'### Intervalos de Confiança'))\n",
    "print(conf_interval)\n",
    "print('\\n')\n",
    "print('Statsmodels:\\n',conf_interval_sm)\n",
    "\n",
    "display(Markdown(rf'### P-valor'))\n",
    "print(p_values)\n",
    "print('\\n')\n",
    "print('Statsmodels:\\n',p_values_sm)"
   ]
  },
  {
   "cell_type": "markdown",
   "id": "0f16dda7",
   "metadata": {},
   "source": [
    "## 2. \n",
    "A questão anterior adicionamos uma variável _dummy_, que representa a existência ou não de determinado atributo.\n"
   ]
  },
  {
   "cell_type": "code",
   "execution_count": 8,
   "id": "57db8194",
   "metadata": {},
   "outputs": [
    {
     "data": {
      "text/html": [
       "<div>\n",
       "<style scoped>\n",
       "    .dataframe tbody tr th:only-of-type {\n",
       "        vertical-align: middle;\n",
       "    }\n",
       "\n",
       "    .dataframe tbody tr th {\n",
       "        vertical-align: top;\n",
       "    }\n",
       "\n",
       "    .dataframe thead th {\n",
       "        text-align: right;\n",
       "    }\n",
       "</style>\n",
       "<table border=\"1\" class=\"dataframe\">\n",
       "  <thead>\n",
       "    <tr style=\"text-align: right;\">\n",
       "      <th></th>\n",
       "      <th>Y</th>\n",
       "      <th>X2</th>\n",
       "      <th>X3</th>\n",
       "      <th>Dummy</th>\n",
       "    </tr>\n",
       "  </thead>\n",
       "  <tbody>\n",
       "    <tr>\n",
       "      <th>0</th>\n",
       "      <td>800.0</td>\n",
       "      <td>2.0</td>\n",
       "      <td>0.8</td>\n",
       "      <td>1.0</td>\n",
       "    </tr>\n",
       "    <tr>\n",
       "      <th>1</th>\n",
       "      <td>1160.0</td>\n",
       "      <td>4.0</td>\n",
       "      <td>0.7</td>\n",
       "      <td>1.0</td>\n",
       "    </tr>\n",
       "    <tr>\n",
       "      <th>2</th>\n",
       "      <td>1580.0</td>\n",
       "      <td>6.0</td>\n",
       "      <td>0.5</td>\n",
       "      <td>1.0</td>\n",
       "    </tr>\n",
       "    <tr>\n",
       "      <th>3</th>\n",
       "      <td>2010.0</td>\n",
       "      <td>8.0</td>\n",
       "      <td>0.4</td>\n",
       "      <td>1.0</td>\n",
       "    </tr>\n",
       "    <tr>\n",
       "      <th>4</th>\n",
       "      <td>1890.0</td>\n",
       "      <td>7.0</td>\n",
       "      <td>0.2</td>\n",
       "      <td>1.0</td>\n",
       "    </tr>\n",
       "    <tr>\n",
       "      <th>5</th>\n",
       "      <td>2600.0</td>\n",
       "      <td>12.0</td>\n",
       "      <td>0.2</td>\n",
       "      <td>1.0</td>\n",
       "    </tr>\n",
       "    <tr>\n",
       "      <th>6</th>\n",
       "      <td>2070.0</td>\n",
       "      <td>11.0</td>\n",
       "      <td>0.8</td>\n",
       "      <td>0.0</td>\n",
       "    </tr>\n",
       "    <tr>\n",
       "      <th>7</th>\n",
       "      <td>1890.0</td>\n",
       "      <td>10.0</td>\n",
       "      <td>0.7</td>\n",
       "      <td>0.0</td>\n",
       "    </tr>\n",
       "    <tr>\n",
       "      <th>8</th>\n",
       "      <td>1830.0</td>\n",
       "      <td>9.0</td>\n",
       "      <td>0.6</td>\n",
       "      <td>0.0</td>\n",
       "    </tr>\n",
       "    <tr>\n",
       "      <th>9</th>\n",
       "      <td>1740.0</td>\n",
       "      <td>8.0</td>\n",
       "      <td>0.1</td>\n",
       "      <td>0.0</td>\n",
       "    </tr>\n",
       "    <tr>\n",
       "      <th>10</th>\n",
       "      <td>1380.0</td>\n",
       "      <td>6.0</td>\n",
       "      <td>0.5</td>\n",
       "      <td>0.0</td>\n",
       "    </tr>\n",
       "    <tr>\n",
       "      <th>11</th>\n",
       "      <td>1060.0</td>\n",
       "      <td>4.0</td>\n",
       "      <td>0.4</td>\n",
       "      <td>0.0</td>\n",
       "    </tr>\n",
       "  </tbody>\n",
       "</table>\n",
       "</div>"
      ],
      "text/plain": [
       "         Y    X2   X3  Dummy\n",
       "0    800.0   2.0  0.8    1.0\n",
       "1   1160.0   4.0  0.7    1.0\n",
       "2   1580.0   6.0  0.5    1.0\n",
       "3   2010.0   8.0  0.4    1.0\n",
       "4   1890.0   7.0  0.2    1.0\n",
       "5   2600.0  12.0  0.2    1.0\n",
       "6   2070.0  11.0  0.8    0.0\n",
       "7   1890.0  10.0  0.7    0.0\n",
       "8   1830.0   9.0  0.6    0.0\n",
       "9   1740.0   8.0  0.1    0.0\n",
       "10  1380.0   6.0  0.5    0.0\n",
       "11  1060.0   4.0  0.4    0.0"
      ]
     },
     "execution_count": 8,
     "metadata": {},
     "output_type": "execute_result"
    }
   ],
   "source": [
    "\n",
    "# %% (================== Questão 2 ===================) #\n",
    "\n",
    "cols = 'Y X2 X3 Dummy'\n",
    "vals = '''800 2 0,8 1\n",
    "1160 4 0,7 1\n",
    "1580 6 0,5 1\n",
    "2010 8 0,4 1\n",
    "1890 7 0,2 1\n",
    "2600 12 0,2 1\n",
    "2070 11 0,8 0\n",
    "1890 10 0,7 0\n",
    "1830 9 0,6 0\n",
    "1740 8 0,1 0\n",
    "1380 6 0,5 0\n",
    "1060 4 0,4 0'''\n",
    "\n",
    "# Transformando em Matrizes\n",
    "\n",
    "A = get_matrix(v = vals, c= cols)\n",
    "Y = A[:,0]\n",
    "X = A.copy()\n",
    "X[:,0] = 1\n",
    "\n",
    "# Y = b1 + b2X2 + b3X3 + b4D + vt\n",
    "\n",
    "# OLS via Statsmodels\n",
    "df = pd.DataFrame(A,columns=cols.split(' '))\n",
    "df_exog = sm.add_constant(df.iloc[:,1:])\n",
    "model = sm.OLS(df.iloc[:,0], df_exog)\n",
    "result = model.fit()\n",
    "df"
   ]
  },
  {
   "cell_type": "markdown",
   "id": "b183412b",
   "metadata": {},
   "source": [
    "### 2A.\n",
    "Calcule os parâmetros $\\beta_1, \\beta_2, \\beta_3$ desse modelo."
   ]
  },
  {
   "cell_type": "code",
   "execution_count": 9,
   "id": "4fb1cde7",
   "metadata": {},
   "outputs": [
    {
     "name": "stdout",
     "output_type": "stream",
     "text": [
      "Via matrizes: [ 536.09284948  161.86571415 -327.77786331  238.07634473]\n",
      "\n",
      "\n",
      "* Via Statsmodels:\n",
      " const    536.092849\n",
      "X2       161.865714\n",
      "X3      -327.777863\n",
      "Dummy    238.076345\n",
      "dtype: float64\n"
     ]
    }
   ],
   "source": [
    "# %% (========= Item A =========) #\n",
    "B_hat = inv(X.T @ X) @ X.T @ Y\n",
    "\n",
    "##  Usando Statsmodels ##\n",
    "B_hat_sm = result.params\n",
    "B_hat\n",
    "\n",
    "print('Via matrizes:',B_hat)\n",
    "print('\\n')\n",
    "print('* Via Statsmodels:\\n',B_hat_sm)"
   ]
  },
  {
   "cell_type": "markdown",
   "id": "07578fb0",
   "metadata": {},
   "source": [
    "### 2B.\n",
    "Monte a matriz de residuos deste modelo. Calcule a soma dos quadrados dos resíduos utilizando método matricial."
   ]
  },
  {
   "cell_type": "code",
   "execution_count": 10,
   "id": "55f1b4d5",
   "metadata": {},
   "outputs": [
    {
     "data": {
      "text/markdown": [
       "$ SSR = 19854.217281745772$"
      ],
      "text/plain": [
       "<IPython.core.display.Markdown object>"
      ]
     },
     "metadata": {},
     "output_type": "display_data"
    },
    {
     "data": {
      "text/markdown": [
       "\n",
       " Statsmodels: \n",
       "\n",
       " $* SSR = 19854.217281745787$"
      ],
      "text/plain": [
       "<IPython.core.display.Markdown object>"
      ]
     },
     "metadata": {},
     "output_type": "display_data"
    }
   ],
   "source": [
    "# %% (========= Item B =========) #\n",
    "u_hat = (Y - X @ B_hat)\n",
    "SSR = u_hat.T @ u_hat \n",
    "\n",
    "##  Usando Statsmodels ##\n",
    "SSR_sm = sum(np.square(result.resid))\n",
    "\n",
    "display(Markdown(rf'$ SSR = {SSR}$'))\n",
    "display(Markdown('\\n Statsmodels: \\n\\n '+ rf'$* SSR = {SSR_sm}$'))"
   ]
  },
  {
   "cell_type": "markdown",
   "id": "d07df019",
   "metadata": {},
   "source": [
    "### 2C.\n",
    "Calcule o r2 deste modelo."
   ]
  },
  {
   "cell_type": "code",
   "execution_count": 11,
   "id": "4b240709",
   "metadata": {},
   "outputs": [
    {
     "data": {
      "text/markdown": [
       "$ R^2 = 0.9927777239996923$"
      ],
      "text/plain": [
       "<IPython.core.display.Markdown object>"
      ]
     },
     "metadata": {},
     "output_type": "display_data"
    },
    {
     "data": {
      "text/markdown": [
       "\n",
       " Statsmodels: \n",
       "\n",
       " $R^2 = 0.9927777239996923$"
      ],
      "text/plain": [
       "<IPython.core.display.Markdown object>"
      ]
     },
     "metadata": {},
     "output_type": "display_data"
    }
   ],
   "source": [
    "# %% (========= Item C =========) #\n",
    "SST = sum(np.square(Y - np.repeat(np.mean(Y),len(Y))))\n",
    "SSE = SST - SSR\n",
    "R2 = SSE/SST\n",
    "\n",
    "##  Usando Statsmodels ##\n",
    "R2_sm = result.rsquared\n",
    "\n",
    "display(Markdown(rf'$ R^2 = {R2}$'))\n",
    "display(Markdown('\\n Statsmodels: \\n\\n '+ rf'$R^2 = {R2_sm}$'))"
   ]
  },
  {
   "cell_type": "markdown",
   "id": "2f187fb2",
   "metadata": {},
   "source": [
    "### 2D.\n",
    "Monte a matriz de variância e covariância deste modelo."
   ]
  },
  {
   "cell_type": "code",
   "execution_count": 12,
   "id": "f52d43f9",
   "metadata": {},
   "outputs": [
    {
     "name": "stdout",
     "output_type": "stream",
     "text": [
      "             0           1            2           3\n",
      "0  4140.447419 -275.417619 -2948.665047 -974.189208\n",
      "1  -275.417619   28.504654    91.703980   47.342180\n",
      "2 -2948.665047   91.703980  4287.161050  351.914022\n",
      "3  -974.189208   47.342180   351.914022  915.868024\n",
      "\n",
      "\n",
      " Statsmodels: \n",
      "              const          X2           X3       Dummy\n",
      "const  4140.447419 -275.417619 -2948.665047 -974.189208\n",
      "X2     -275.417619   28.504654    91.703980   47.342180\n",
      "X3    -2948.665047   91.703980  4287.161050  351.914022\n",
      "Dummy  -974.189208   47.342180   351.914022  915.868024\n"
     ]
    }
   ],
   "source": [
    "# %% (========= Item D =========) #\n",
    "sigma_2 = SSR/(X.shape[0] - X.shape[1])\n",
    "vcov = sigma_2 * inv(X.T @ X)\n",
    "\n",
    "##  Usando Statsmodels ##\n",
    "vcov_sm = result.cov_params()\n",
    "\n",
    "print(pd.DataFrame(vcov))\n",
    "print('\\n\\n Statsmodels: \\n', vcov_sm)"
   ]
  },
  {
   "cell_type": "markdown",
   "id": "2bcce0fb",
   "metadata": {},
   "source": [
    "### 2E. \n",
    "Verifique se os $\\beta_1, \\beta_2, \\beta_3$ são significantes ao nível de 5% de significância."
   ]
  },
  {
   "cell_type": "code",
   "execution_count": 13,
   "id": "440bf026",
   "metadata": {},
   "outputs": [
    {
     "data": {
      "text/markdown": [
       "### Intervalos de Confiança"
      ],
      "text/plain": [
       "<IPython.core.display.Markdown object>"
      ]
     },
     "metadata": {},
     "output_type": "display_data"
    },
    {
     "name": "stdout",
     "output_type": "stream",
     "text": [
      "[(416.43779776141344, 655.7479012013886), (151.93763373370976, 171.79379457378283), (-449.5344041617826, -206.02132246290614), (181.8002631973779, 294.35242626595704)]\n",
      "\n",
      "\n",
      "Statsmodels:\n",
      "                 0           1\n",
      "const  387.709996  684.475703\n",
      "X2     149.554016  174.177413\n",
      "X3    -478.766749 -176.788977\n",
      "Dummy  168.289023  307.863666\n"
     ]
    },
    {
     "data": {
      "text/markdown": [
       "### P-valor"
      ],
      "text/plain": [
       "<IPython.core.display.Markdown object>"
      ]
     },
     "metadata": {},
     "output_type": "display_data"
    },
    {
     "name": "stdout",
     "output_type": "stream",
     "text": [
      "[0.00003257 0.         0.00104491 0.00004927]\n",
      "\n",
      "\n",
      "Statsmodels:\n",
      " const    3.256747e-05\n",
      "X2       1.520871e-09\n",
      "X3       1.044908e-03\n",
      "Dummy    4.926692e-05\n",
      "dtype: float64\n"
     ]
    }
   ],
   "source": [
    "# %% (========= Item E =========) #\n",
    "\n",
    "conf_lv = 0.05\n",
    "std_err = np.sqrt(np.diag(vcov))\n",
    "conf_interval = get_confidence_interval(betas=B_hat, std_errors=std_err, \n",
    "                                        vcov = vcov, conf_lv = conf_lv, \n",
    "                                        df = X.shape[0] - X.shape[1])\n",
    "t_score = B_hat/std_err\n",
    "p_values = t.sf(abs(t_score),  X.shape[0] - X.shape[1])*2 # duas caudas multiplica por 2\n",
    "\n",
    "##  Usando Statsmodels ##\n",
    "conf_interval_sm = result.conf_int()\n",
    "p_values_sm = result.pvalues\n",
    "\n",
    "\n",
    "display(Markdown(rf'### Intervalos de Confiança'))\n",
    "print(conf_interval)\n",
    "print('\\n')\n",
    "print('Statsmodels:\\n',conf_interval_sm)\n",
    "\n",
    "display(Markdown(rf'### P-valor'))\n",
    "print(p_values)\n",
    "print('\\n')\n",
    "print('Statsmodels:\\n',p_values_sm)"
   ]
  },
  {
   "cell_type": "markdown",
   "id": "f478cc6f",
   "metadata": {},
   "source": [
    "## 3. \n",
    "Use os valores descritos na tabela abaixo para ilustrar que $E[\\Upsilon_i(0)] - E[\\Upsilon_i(1)] = E[\\Upsilon_i(0) - \\Upsilon_i(1)]$"
   ]
  },
  {
   "cell_type": "code",
   "execution_count": 14,
   "id": "0c2f48e4",
   "metadata": {},
   "outputs": [
    {
     "data": {
      "text/html": [
       "<div>\n",
       "<style scoped>\n",
       "    .dataframe tbody tr th:only-of-type {\n",
       "        vertical-align: middle;\n",
       "    }\n",
       "\n",
       "    .dataframe tbody tr th {\n",
       "        vertical-align: top;\n",
       "    }\n",
       "\n",
       "    .dataframe thead th {\n",
       "        text-align: right;\n",
       "    }\n",
       "</style>\n",
       "<table border=\"1\" class=\"dataframe\">\n",
       "  <thead>\n",
       "    <tr style=\"text-align: right;\">\n",
       "      <th></th>\n",
       "      <th>Yi(0)</th>\n",
       "      <th>Yi(1)</th>\n",
       "      <th>t1</th>\n",
       "    </tr>\n",
       "    <tr>\n",
       "      <th>Vila(i)</th>\n",
       "      <th></th>\n",
       "      <th></th>\n",
       "      <th></th>\n",
       "    </tr>\n",
       "  </thead>\n",
       "  <tbody>\n",
       "    <tr>\n",
       "      <th>vila1</th>\n",
       "      <td>10</td>\n",
       "      <td>15</td>\n",
       "      <td>5</td>\n",
       "    </tr>\n",
       "    <tr>\n",
       "      <th>vila2</th>\n",
       "      <td>15</td>\n",
       "      <td>15</td>\n",
       "      <td>0</td>\n",
       "    </tr>\n",
       "    <tr>\n",
       "      <th>vila3</th>\n",
       "      <td>20</td>\n",
       "      <td>30</td>\n",
       "      <td>10</td>\n",
       "    </tr>\n",
       "    <tr>\n",
       "      <th>vila4</th>\n",
       "      <td>20</td>\n",
       "      <td>15</td>\n",
       "      <td>-5</td>\n",
       "    </tr>\n",
       "    <tr>\n",
       "      <th>vila5</th>\n",
       "      <td>10</td>\n",
       "      <td>20</td>\n",
       "      <td>10</td>\n",
       "    </tr>\n",
       "    <tr>\n",
       "      <th>vila6</th>\n",
       "      <td>15</td>\n",
       "      <td>15</td>\n",
       "      <td>0</td>\n",
       "    </tr>\n",
       "    <tr>\n",
       "      <th>vila7</th>\n",
       "      <td>15</td>\n",
       "      <td>30</td>\n",
       "      <td>5</td>\n",
       "    </tr>\n",
       "    <tr>\n",
       "      <th>average</th>\n",
       "      <td>15</td>\n",
       "      <td>20</td>\n",
       "      <td>5</td>\n",
       "    </tr>\n",
       "  </tbody>\n",
       "</table>\n",
       "</div>"
      ],
      "text/plain": [
       "        Yi(0) Yi(1)  t1\n",
       "Vila(i)                \n",
       "vila1      10    15   5\n",
       "vila2      15    15   0\n",
       "vila3      20    30  10\n",
       "vila4      20    15  -5\n",
       "vila5      10    20  10\n",
       "vila6      15    15   0\n",
       "vila7      15    30   5\n",
       "average    15    20   5"
      ]
     },
     "execution_count": 14,
     "metadata": {},
     "output_type": "execute_result"
    }
   ],
   "source": [
    "# %% (================== Questão 3 ===================) #\n",
    "\n",
    "cols = 'Vila(i) Yi(0) Yi(1) t1'\n",
    "vals = '''vila1 10 15 5\n",
    "vila2 15 15 0\n",
    "vila3 20 30 10\n",
    "vila4 20 15 -5\n",
    "vila5 10 20 10\n",
    "vila6 15 15 0\n",
    "vila7 15 30 5\n",
    "average 15 20 5'''\n",
    "\n",
    "A = get_matrix(v = vals, c= cols, convert=False)\n",
    "Yi = A[:,1:].astype(float)\n",
    "df = pd.DataFrame(A,columns = cols.split(' '))\n",
    "df.index = df.iloc[:,0]\n",
    "df = df.iloc[:,1:]\n",
    "df"
   ]
  },
  {
   "cell_type": "code",
   "execution_count": 15,
   "id": "ee7bdb8e",
   "metadata": {},
   "outputs": [
    {
     "data": {
      "text/plain": [
       "True"
      ]
     },
     "execution_count": 15,
     "metadata": {},
     "output_type": "execute_result"
    }
   ],
   "source": [
    "# E[Yi(0)] - E[Yi(1)] = E[Yi(0) - Yi(1)]\n",
    "np.mean(Yi[:,0]) - np.mean(Yi[:,1]) == np.mean(Yi[:,0] - Yi[:,1]) "
   ]
  },
  {
   "cell_type": "markdown",
   "id": "41a62088",
   "metadata": {},
   "source": [
    "## 4. \n",
    "\n",
    "Demonstre como chegar nessa igualdade:\n",
    "\n",
    "$ \\frac{1}{N_t} \\sum_{i=1}^n(y_i | d_i = 1) - \\frac{1}{N_C} \\sum_{i=1}^n (y_i | d_i = 0) =  E[\\Upsilon^1] - E[\\Upsilon^0] + (E [ \\Upsilon^0 | D = 1] - E [ \\Upsilon^0 | D = 0] ) + (1 - \\pi)(ATT - ATU)$\n",
    "\n",
    "ou\n",
    "\n",
    "$SDO = ATE + \\text{Selection bias} + \\text{Heterogeneous treatment effect bias}$\n"
   ]
  },
  {
   "cell_type": "markdown",
   "id": "9f1976b7",
   "metadata": {},
   "source": [
    "#### Resposta:"
   ]
  },
  {
   "cell_type": "markdown",
   "id": "79993ca7",
   "metadata": {},
   "source": [
    "Prova da seguinte relação de igualdade:\n",
    "\n",
    "$ \\frac{1}{N_t} \\sum_{i=1}^n(y_i | d_i = 1) - \\frac{1}{N_C} \\sum_{i=1}^n (y_i | d_i = 0) = E [ \\Upsilon^1 | D = 1] - E [ \\Upsilon^0 | D = 0] + (E [ \\Upsilon^0 | D = 1] - E [ \\Upsilon^0 | D = 0] ) + (1 - \\pi)(ATT - ATU)$\n",
    "\n",
    "Ou\n",
    "\n",
    "$ SDO = ATE + (E [ \\Upsilon^0 | D = 1] - E [ \\Upsilon^0 | D = 0] ) + (1 - \\pi)(ATT - ATU)$\n",
    "\n",
    "ATE é a média ponderada de ATT e ATU:\n",
    "\n",
    "$ ATE = \\pi ATT + (1 - \\pi)ATU$\n",
    "\n",
    "$ ATE = \\pi E [ \\Upsilon^1 | D = 1] - \\pi E [ \\Upsilon^0 | D = 1] + (1 - \\pi) E [ \\Upsilon^1 | D = 0] - (1 - \\pi) E [ \\Upsilon^0 | D = 0] $\n",
    "\n",
    "$ ATE = \\{ \\pi E [ \\Upsilon^1 | D = 1] + (1 - \\pi) E [ \\Upsilon^1 | D = 0] \\} - \\{ \\pi E [ \\Upsilon^0 | D = 1] + (1 - \\pi) E [ \\Upsilon^0 | D = 0] \\} $\n",
    "\n",
    "Mudando a notação para tornar mais fácil a visualização:\n",
    "\n",
    "$ E [ \\Upsilon^1 | D = 1] = a$ \n",
    "\n",
    "$ E [ \\Upsilon^1 | D = 0] = b$ \n",
    "\n",
    "$ E [ \\Upsilon^0 | D = 1] = c$ \n",
    "\n",
    "$ E [ \\Upsilon^0 | D = 0] = d$ \n",
    "\n",
    "$ ATE = e$ \n",
    "\n",
    "Substituindo temos que:\n",
    "\n",
    "$ e = \\{ \\pi a + (1 - \\pi) b \\} -  \\{\\pi c + (1 - \\pi) d \\}$\n",
    "\n",
    "\n",
    "$ e = \\pi a + b - \\pi b - \\pi c - d + \\pi d $\n",
    "\n",
    "$ 0 = e - \\pi a - b + \\pi b + \\pi c + d - \\pi d $\n",
    "\n",
    "$ a - d = e - \\pi a - b + \\pi b + \\pi c + d - \\pi d + a - d$\n",
    "\n",
    "$ a - d = e + (c - d) + a - \\pi a - b + \\pi b - c + \\pi c + d - \\pi d $\n",
    "\n",
    "$ a - d = e + (c - d) + (1 - \\pi)(a - c) - (1 - \\pi)(b - d) $\n",
    "\n",
    "\n",
    "Substituindo de volta temos que:\n",
    "\n",
    "\n",
    "$ E [ \\Upsilon^1 | D = 1] - E [ \\Upsilon^0 | D = 0] = ATE + (E [ \\Upsilon^0 | D = 1] - E [ \\Upsilon^0 | D = 0] ) + (1 - \\pi)(ATT - ATU)$\n",
    "\n"
   ]
  },
  {
   "cell_type": "markdown",
   "id": "7f6b9998",
   "metadata": {},
   "source": [
    "## 5. \n",
    "Em que condições teremos a seguinte igualdade? Justifique.\n",
    "\n",
    "$ \\frac{1}{N_t} \\sum_{i=1}^n(y_i | d_i = 1) - \\frac{1}{N_C} \\sum_{i=1}^n (y_i | d_i = 0) =  E[\\Upsilon^1] - E[\\Upsilon^0]$\n",
    "\n",
    "ou\n",
    "\n",
    "$SDO = ATE$"
   ]
  },
  {
   "cell_type": "markdown",
   "id": "e0478828",
   "metadata": {},
   "source": [
    "#### Resposta:\n"
   ]
  },
  {
   "cell_type": "markdown",
   "id": "4f716bc6",
   "metadata": {},
   "source": [
    "Para que $SDO = ATE$ é necessário que os componentes de viés sejam nulos.\n",
    "\n",
    "Ou seja, o _Selection bias_ $ (E [ \\Upsilon^0 | D = 1] - E [ \\Upsilon^0 | D = 0] )$ e o _Heterogenous treatment effect bias_ $(1 - \\pi)(ATT - ATU)$ devem ser iguais a 0.\n",
    "\n",
    "Para isso é necessário que $\\Upsilon^1$ e $\\Upsilon^0$ sejam independentes em relação ao tratamento $  (\\Upsilon^1, \\Upsilon^0 ){\\perp \\!\\!\\! \\perp} D$.\n",
    "\n",
    "Se a ocorrência do tratamento $ D $ independende dos valores dos resultados potenciais, então os resultados de $\\Upsilon^1$ e $\\Upsilon^0$ serão os mesmos dentro da mesma população.\n",
    "\n",
    "Nesse caso para todo $\\Upsilon^0$ valerá uma relação assim:\n",
    "\n",
    "$ E [ \\Upsilon^0 | D = 1] = E [ \\Upsilon^0 ] = E [ \\Upsilon^0 | D = 0] $\n",
    "\n",
    "que implica que:\n",
    "\n",
    "$ E [ \\Upsilon^0 | D = 1] - E [ \\Upsilon^0 | D = 0 ] = 0$\n",
    "\n",
    "Ou seja, _selection bias_ é nulo.\n",
    "\n",
    "Falta agora eliminar o _heterogenous treatment bias_ . \n",
    "\n",
    "Temos que os valores de $ATT$ e $ATU$ são:\n",
    "\n",
    "$ ATT = E [ \\Upsilon^1 | D = 1 ] - E [ \\Upsilon^0 | D = 1 ] $\n",
    "\n",
    "$ ATU = E [ \\Upsilon^1 | D = 0 ] - E [ \\Upsilon^0 | D = 0 ] $\n",
    "\n",
    "Como $(\\Upsilon^1, \\Upsilon^0 ){\\perp \\!\\!\\! \\perp} D $, então $ ATT - ATU = 0$ \n",
    "\n",
    "Eliminando também o viés, tornando $ SDO = ATE $"
   ]
  },
  {
   "cell_type": "markdown",
   "id": "27d86506",
   "metadata": {},
   "source": [
    "## 6. \n",
    "Suponha que um laboratório esteja testando um novo medicamento que tem como objetivo prolongar a vida de pacientes com câncer. Para realizar o estudo, os cientistas irao dividir sua amostra em dois grupos. Os indivíduos pares são os indivíduos do grupo tratamento e que tomam o medicamento, enquanto que os indivíduos ímpares pertencem ao grupo controle e tomam um placebo. Os efeitos dos medicamento são adversos. Suponha que se o paciente tomar o medicamento, entao ele terá a expectativa de vida $\\Upsilon_i^1$ adicional. De maneira análoga, se o paciente tomar o placebo, entao ele terá a expectativa de vida $\\Upsilon_i^2$ adicional.\n"
   ]
  },
  {
   "cell_type": "code",
   "execution_count": 16,
   "id": "fd3b430f",
   "metadata": {},
   "outputs": [
    {
     "data": {
      "text/html": [
       "<div>\n",
       "<style scoped>\n",
       "    .dataframe tbody tr th:only-of-type {\n",
       "        vertical-align: middle;\n",
       "    }\n",
       "\n",
       "    .dataframe tbody tr th {\n",
       "        vertical-align: top;\n",
       "    }\n",
       "\n",
       "    .dataframe thead th {\n",
       "        text-align: right;\n",
       "    }\n",
       "</style>\n",
       "<table border=\"1\" class=\"dataframe\">\n",
       "  <thead>\n",
       "    <tr style=\"text-align: right;\">\n",
       "      <th></th>\n",
       "      <th>Y1</th>\n",
       "      <th>Y2</th>\n",
       "    </tr>\n",
       "    <tr>\n",
       "      <th>Paciente</th>\n",
       "      <th></th>\n",
       "      <th></th>\n",
       "    </tr>\n",
       "  </thead>\n",
       "  <tbody>\n",
       "    <tr>\n",
       "      <th>1.0</th>\n",
       "      <td>8.0</td>\n",
       "      <td>6.0</td>\n",
       "    </tr>\n",
       "    <tr>\n",
       "      <th>2.0</th>\n",
       "      <td>9.0</td>\n",
       "      <td>5.0</td>\n",
       "    </tr>\n",
       "    <tr>\n",
       "      <th>3.0</th>\n",
       "      <td>8.0</td>\n",
       "      <td>4.0</td>\n",
       "    </tr>\n",
       "    <tr>\n",
       "      <th>4.0</th>\n",
       "      <td>4.0</td>\n",
       "      <td>3.0</td>\n",
       "    </tr>\n",
       "    <tr>\n",
       "      <th>5.0</th>\n",
       "      <td>7.0</td>\n",
       "      <td>2.0</td>\n",
       "    </tr>\n",
       "    <tr>\n",
       "      <th>6.0</th>\n",
       "      <td>1.0</td>\n",
       "      <td>1.0</td>\n",
       "    </tr>\n",
       "    <tr>\n",
       "      <th>7.0</th>\n",
       "      <td>5.0</td>\n",
       "      <td>4.0</td>\n",
       "    </tr>\n",
       "    <tr>\n",
       "      <th>8.0</th>\n",
       "      <td>7.0</td>\n",
       "      <td>6.0</td>\n",
       "    </tr>\n",
       "    <tr>\n",
       "      <th>9.0</th>\n",
       "      <td>5.0</td>\n",
       "      <td>4.0</td>\n",
       "    </tr>\n",
       "    <tr>\n",
       "      <th>10.0</th>\n",
       "      <td>4.0</td>\n",
       "      <td>5.0</td>\n",
       "    </tr>\n",
       "    <tr>\n",
       "      <th>11.0</th>\n",
       "      <td>5.0</td>\n",
       "      <td>2.0</td>\n",
       "    </tr>\n",
       "    <tr>\n",
       "      <th>12.0</th>\n",
       "      <td>10.0</td>\n",
       "      <td>3.0</td>\n",
       "    </tr>\n",
       "    <tr>\n",
       "      <th>13.0</th>\n",
       "      <td>5.0</td>\n",
       "      <td>4.0</td>\n",
       "    </tr>\n",
       "    <tr>\n",
       "      <th>14.0</th>\n",
       "      <td>10.0</td>\n",
       "      <td>5.0</td>\n",
       "    </tr>\n",
       "    <tr>\n",
       "      <th>15.0</th>\n",
       "      <td>2.0</td>\n",
       "      <td>1.0</td>\n",
       "    </tr>\n",
       "  </tbody>\n",
       "</table>\n",
       "</div>"
      ],
      "text/plain": [
       "            Y1   Y2\n",
       "Paciente           \n",
       "1.0        8.0  6.0\n",
       "2.0        9.0  5.0\n",
       "3.0        8.0  4.0\n",
       "4.0        4.0  3.0\n",
       "5.0        7.0  2.0\n",
       "6.0        1.0  1.0\n",
       "7.0        5.0  4.0\n",
       "8.0        7.0  6.0\n",
       "9.0        5.0  4.0\n",
       "10.0       4.0  5.0\n",
       "11.0       5.0  2.0\n",
       "12.0      10.0  3.0\n",
       "13.0       5.0  4.0\n",
       "14.0      10.0  5.0\n",
       "15.0       2.0  1.0"
      ]
     },
     "execution_count": 16,
     "metadata": {},
     "output_type": "execute_result"
    }
   ],
   "source": [
    "# %% (================== Questão 6 ===================) #\n",
    "\n",
    "# Dados\n",
    "cols = 'Paciente Y1 Y2'\n",
    "vals = '''1 8 6\n",
    "2 9 5\n",
    "3 8 4\n",
    "4 4 3\n",
    "5 7 2\n",
    "6 1 1\n",
    "7 5 4\n",
    "8 7 6\n",
    "9 5 4\n",
    "10 4 5\n",
    "11 5 2\n",
    "12 10 3\n",
    "13 5 4\n",
    "14 10 5\n",
    "15 2 1'''\n",
    "\n",
    "A = get_matrix(v = vals, c= cols)\n",
    "Yi = A[:,1:].astype(float)\n",
    "df = pd.DataFrame(A,columns = cols.split(' '))\n",
    "df.index = df.iloc[:,0]\n",
    "df = df.iloc[:,1:]\n",
    "df"
   ]
  },
  {
   "cell_type": "markdown",
   "id": "c30c4f32",
   "metadata": {},
   "source": [
    "### 6A.\n",
    "Calcule os Efeitos medios de tratamento.\n",
    "\n",
    "Formulas:\n",
    "\n",
    "$ \\delta_i = Y_i^1 - Y_i^0 $\n",
    "\n",
    "$ ATE = E[\\delta_i] $"
   ]
  },
  {
   "cell_type": "code",
   "execution_count": 17,
   "id": "613bf90e",
   "metadata": {},
   "outputs": [
    {
     "data": {
      "text/plain": [
       "2.3333333333333335"
      ]
     },
     "execution_count": 17,
     "metadata": {},
     "output_type": "execute_result"
    }
   ],
   "source": [
    "delta_i = df['Y1'] - df['Y2']\n",
    "ATE = np.mean(delta_i)\n",
    "ATE"
   ]
  },
  {
   "cell_type": "markdown",
   "id": "8502b351",
   "metadata": {},
   "source": [
    "### 6B.  \n",
    "\n",
    "Calcule os efeitos medios do grupo de tratamento . \n",
    "\n",
    "Formulas:\n",
    "\n",
    "$ ATT =  E[\\delta_i | D_i = 1] $"
   ]
  },
  {
   "cell_type": "code",
   "execution_count": 18,
   "id": "c5674a43",
   "metadata": {},
   "outputs": [
    {
     "data": {
      "text/plain": [
       "2.4285714285714284"
      ]
     },
     "execution_count": 18,
     "metadata": {},
     "output_type": "execute_result"
    }
   ],
   "source": [
    "delta_i_D1 = delta_i[delta_i.index%2 == 0]\n",
    "ATT = np.mean(delta_i_D1)\n",
    "ATT"
   ]
  },
  {
   "cell_type": "markdown",
   "id": "9a7701e9",
   "metadata": {},
   "source": [
    "### 6C. \n",
    "\n",
    "Calcule os efeitos medios do grupo de controle.\n",
    "\n",
    "Formulas:\n",
    "\n",
    "$ ATU =  E[\\delta_i | D_i = 0] $"
   ]
  },
  {
   "cell_type": "code",
   "execution_count": 19,
   "id": "e051b954",
   "metadata": {},
   "outputs": [
    {
     "data": {
      "text/plain": [
       "2.25"
      ]
     },
     "execution_count": 19,
     "metadata": {},
     "output_type": "execute_result"
    }
   ],
   "source": [
    "delta_i_D0 = delta_i[delta_i.index%2 == 1]\n",
    "ATU = np.mean(delta_i_D0)\n",
    "ATU"
   ]
  },
  {
   "cell_type": "markdown",
   "id": "4838762b",
   "metadata": {},
   "source": [
    "### 6D. \n",
    "O que voce conclui sobre a eficácia do novo medicamento? "
   ]
  },
  {
   "cell_type": "markdown",
   "id": "57200e8b",
   "metadata": {},
   "source": [
    "#### Resposta:"
   ]
  },
  {
   "cell_type": "markdown",
   "id": "1718de5c",
   "metadata": {},
   "source": [
    "A conclusão é que o médicamento aumenta em média 2.333 anos de vida. Pacientes do grupo de tratamento tiveram um aumento de 2.4285 anos de vida e pacientes do grupo controle teriam um aumento de 2.25 anos de vida se tomassem o medicamento."
   ]
  },
  {
   "cell_type": "markdown",
   "id": "71c53996",
   "metadata": {},
   "source": [
    "## 7. \n",
    "Um determinado grupo de pesquisadores quer analisar a taxa de mortalidade média entre fumadores de cigarro e fumadores de cachimbo/charuto. Os pesquisadores possuem os dados da ”tabela 2”, em que há informações sobre a classificação etária dos indivíduos e a taxa de mortalidade para cada subgrupo."
   ]
  },
  {
   "cell_type": "code",
   "execution_count": 29,
   "id": "86aa0a4e",
   "metadata": {},
   "outputs": [
    {
     "data": {
      "text/html": [
       "<div>\n",
       "<style scoped>\n",
       "    .dataframe tbody tr th:only-of-type {\n",
       "        vertical-align: middle;\n",
       "    }\n",
       "\n",
       "    .dataframe tbody tr th {\n",
       "        vertical-align: top;\n",
       "    }\n",
       "\n",
       "    .dataframe thead th {\n",
       "        text-align: right;\n",
       "    }\n",
       "</style>\n",
       "<table border=\"1\" class=\"dataframe\">\n",
       "  <thead>\n",
       "    <tr style=\"text-align: right;\">\n",
       "      <th></th>\n",
       "      <th>Death_sates_Cigarette_smokers</th>\n",
       "      <th>of_Cigarette_smokers</th>\n",
       "      <th>of_Pipe_or_cigar_smokers</th>\n",
       "    </tr>\n",
       "    <tr>\n",
       "      <th>Age_range</th>\n",
       "      <th></th>\n",
       "      <th></th>\n",
       "      <th></th>\n",
       "    </tr>\n",
       "  </thead>\n",
       "  <tbody>\n",
       "    <tr>\n",
       "      <th>age20-40</th>\n",
       "      <td>20</td>\n",
       "      <td>65</td>\n",
       "      <td>10</td>\n",
       "    </tr>\n",
       "    <tr>\n",
       "      <th>age41-70</th>\n",
       "      <td>40</td>\n",
       "      <td>25</td>\n",
       "      <td>25</td>\n",
       "    </tr>\n",
       "    <tr>\n",
       "      <th>age≥71</th>\n",
       "      <td>60</td>\n",
       "      <td>10</td>\n",
       "      <td>65</td>\n",
       "    </tr>\n",
       "  </tbody>\n",
       "</table>\n",
       "</div>"
      ],
      "text/plain": [
       "           Death_sates_Cigarette_smokers  of_Cigarette_smokers  \\\n",
       "Age_range                                                        \n",
       "age20-40                              20                    65   \n",
       "age41-70                              40                    25   \n",
       "age≥71                                60                    10   \n",
       "\n",
       "           of_Pipe_or_cigar_smokers  \n",
       "Age_range                            \n",
       "age20-40                         10  \n",
       "age41-70                         25  \n",
       "age≥71                           65  "
      ]
     },
     "execution_count": 29,
     "metadata": {},
     "output_type": "execute_result"
    }
   ],
   "source": [
    "# %% (================== Questão 7 ===================) #\n",
    "\n",
    "# Dados\n",
    "cols = 'Age_range Death_sates_Cigarette_smokers of_Cigarette_smokers of_Pipe_or_cigar_smokers'\n",
    "vals = '''age20-40 20 65 10\n",
    "age41-70 40 25 25\n",
    "age≥71 60 10 65\n",
    "Total - 100 100'''\n",
    "\n",
    "A = get_matrix(v = vals, c=cols, convert=False)\n",
    "df = pd.DataFrame(A, columns=cols.split(' '))\n",
    "df.index = df.iloc[:,0]\n",
    "df = df.iloc[:-1,1:].apply(pd.to_numeric,errors='coerce')\n",
    "df"
   ]
  },
  {
   "cell_type": "markdown",
   "id": "a95146e1",
   "metadata": {},
   "source": [
    "### 7A.\n",
    "Qual e a taxa média de mortalidade para fumantes de cigarro sem subclassificação?. \n",
    "\n",
    "Sem subclassificação a taxa média de mortaliade será uma média ponderado da mortalidade onde cada peso é igual a $\\frac{N_t}{N}$ e $N_t$ e $N$ são respectivamente o número de pessoas em cada grupo e o número total de pessoas."
   ]
  },
  {
   "cell_type": "code",
   "execution_count": 30,
   "id": "8bf2d83a",
   "metadata": {},
   "outputs": [
    {
     "data": {
      "text/plain": [
       "29.0"
      ]
     },
     "execution_count": 30,
     "metadata": {},
     "output_type": "execute_result"
    }
   ],
   "source": [
    "avg_death_rate = sum(df.iloc[:,0]*df.iloc[:,1]/df.sum()[1])\n",
    "avg_death_rate"
   ]
  },
  {
   "cell_type": "markdown",
   "id": "bc90cf9d",
   "metadata": {},
   "source": [
    "### 7B. \n",
    "Observe que a distribuição etária dos fumantes de cigarros é exatamente o oposto (em termos de construção) dos fumantes de cachimbo e charuto. Portanto, a distribuição de idades é desequilibrada. Ajuste a taxa de mortalidade para fumantes de cigarro para que tenha a mesma distribuição de idade do grupo de comparação, no caso fumadores de cachimbo e charuto. Qual é a nova taxa média de mortalidade? Aumentou ou diminuiu? "
   ]
  },
  {
   "cell_type": "code",
   "execution_count": 31,
   "id": "024fa6fa",
   "metadata": {},
   "outputs": [
    {
     "data": {
      "text/plain": [
       "51.0"
      ]
     },
     "execution_count": 31,
     "metadata": {},
     "output_type": "execute_result"
    }
   ],
   "source": [
    "avg_death_rate = sum(df.iloc[:,0]*df.iloc[:,2]/df.sum()[2])\n",
    "avg_death_rate"
   ]
  },
  {
   "cell_type": "markdown",
   "id": "f278ffcd",
   "metadata": {},
   "source": [
    "## 8. \n",
    "A tabela 3 fornece informações sobre idade e rendimento salarial de dois grupos, _trainees_ e _non−trainees_. Sabendo que o metodo de _Matched Sample_ é o mais adequado para comparação entre esses dois grupos, analise a diferença salarial entre _trainees_ e _non−trainees_. Há diferença salarial? Monte a tabela de _Matched Sample_."
   ]
  },
  {
   "cell_type": "code",
   "execution_count": 32,
   "id": "92acf17f",
   "metadata": {},
   "outputs": [
    {
     "data": {
      "text/html": [
       "<div>\n",
       "<style scoped>\n",
       "    .dataframe tbody tr th:only-of-type {\n",
       "        vertical-align: middle;\n",
       "    }\n",
       "\n",
       "    .dataframe tbody tr th {\n",
       "        vertical-align: top;\n",
       "    }\n",
       "\n",
       "    .dataframe thead th {\n",
       "        text-align: right;\n",
       "    }\n",
       "</style>\n",
       "<table border=\"1\" class=\"dataframe\">\n",
       "  <thead>\n",
       "    <tr style=\"text-align: right;\">\n",
       "      <th></th>\n",
       "      <th>Unit</th>\n",
       "      <th>Age</th>\n",
       "      <th>Earnings</th>\n",
       "      <th>Unit</th>\n",
       "      <th>Age</th>\n",
       "      <th>Earnings_height</th>\n",
       "    </tr>\n",
       "  </thead>\n",
       "  <tbody>\n",
       "    <tr>\n",
       "      <th>0</th>\n",
       "      <td>1.0</td>\n",
       "      <td>18.0</td>\n",
       "      <td>9500.0</td>\n",
       "      <td>1</td>\n",
       "      <td>20</td>\n",
       "      <td>8500</td>\n",
       "    </tr>\n",
       "    <tr>\n",
       "      <th>1</th>\n",
       "      <td>2.0</td>\n",
       "      <td>29.0</td>\n",
       "      <td>12250.0</td>\n",
       "      <td>2</td>\n",
       "      <td>27</td>\n",
       "      <td>10075</td>\n",
       "    </tr>\n",
       "    <tr>\n",
       "      <th>2</th>\n",
       "      <td>3.0</td>\n",
       "      <td>24.0</td>\n",
       "      <td>11000.0</td>\n",
       "      <td>3</td>\n",
       "      <td>21</td>\n",
       "      <td>8725</td>\n",
       "    </tr>\n",
       "    <tr>\n",
       "      <th>3</th>\n",
       "      <td>4.0</td>\n",
       "      <td>27.0</td>\n",
       "      <td>11750.0</td>\n",
       "      <td>4</td>\n",
       "      <td>39</td>\n",
       "      <td>12775</td>\n",
       "    </tr>\n",
       "    <tr>\n",
       "      <th>4</th>\n",
       "      <td>5.0</td>\n",
       "      <td>33.0</td>\n",
       "      <td>13250.0</td>\n",
       "      <td>5</td>\n",
       "      <td>38</td>\n",
       "      <td>12550</td>\n",
       "    </tr>\n",
       "    <tr>\n",
       "      <th>5</th>\n",
       "      <td>6.0</td>\n",
       "      <td>22.0</td>\n",
       "      <td>10500.0</td>\n",
       "      <td>6</td>\n",
       "      <td>29</td>\n",
       "      <td>10525</td>\n",
       "    </tr>\n",
       "    <tr>\n",
       "      <th>6</th>\n",
       "      <td>7.0</td>\n",
       "      <td>19.0</td>\n",
       "      <td>9750.0</td>\n",
       "      <td>7</td>\n",
       "      <td>39</td>\n",
       "      <td>12775</td>\n",
       "    </tr>\n",
       "    <tr>\n",
       "      <th>7</th>\n",
       "      <td>8.0</td>\n",
       "      <td>20.0</td>\n",
       "      <td>10000.0</td>\n",
       "      <td>8</td>\n",
       "      <td>33</td>\n",
       "      <td>11425</td>\n",
       "    </tr>\n",
       "    <tr>\n",
       "      <th>8</th>\n",
       "      <td>9.0</td>\n",
       "      <td>21.0</td>\n",
       "      <td>10250.0</td>\n",
       "      <td>9</td>\n",
       "      <td>24</td>\n",
       "      <td>9400</td>\n",
       "    </tr>\n",
       "    <tr>\n",
       "      <th>9</th>\n",
       "      <td>10.0</td>\n",
       "      <td>30.0</td>\n",
       "      <td>12500.0</td>\n",
       "      <td>10</td>\n",
       "      <td>30</td>\n",
       "      <td>10750</td>\n",
       "    </tr>\n",
       "    <tr>\n",
       "      <th>10</th>\n",
       "      <td>NaN</td>\n",
       "      <td>NaN</td>\n",
       "      <td>NaN</td>\n",
       "      <td>11</td>\n",
       "      <td>33</td>\n",
       "      <td>11425</td>\n",
       "    </tr>\n",
       "    <tr>\n",
       "      <th>11</th>\n",
       "      <td>NaN</td>\n",
       "      <td>NaN</td>\n",
       "      <td>NaN</td>\n",
       "      <td>12</td>\n",
       "      <td>36</td>\n",
       "      <td>12100</td>\n",
       "    </tr>\n",
       "    <tr>\n",
       "      <th>12</th>\n",
       "      <td>NaN</td>\n",
       "      <td>NaN</td>\n",
       "      <td>NaN</td>\n",
       "      <td>13</td>\n",
       "      <td>22</td>\n",
       "      <td>8950</td>\n",
       "    </tr>\n",
       "    <tr>\n",
       "      <th>13</th>\n",
       "      <td>NaN</td>\n",
       "      <td>NaN</td>\n",
       "      <td>NaN</td>\n",
       "      <td>14</td>\n",
       "      <td>18</td>\n",
       "      <td>8050</td>\n",
       "    </tr>\n",
       "    <tr>\n",
       "      <th>14</th>\n",
       "      <td>NaN</td>\n",
       "      <td>NaN</td>\n",
       "      <td>NaN</td>\n",
       "      <td>15</td>\n",
       "      <td>43</td>\n",
       "      <td>13675</td>\n",
       "    </tr>\n",
       "    <tr>\n",
       "      <th>15</th>\n",
       "      <td>NaN</td>\n",
       "      <td>NaN</td>\n",
       "      <td>NaN</td>\n",
       "      <td>16</td>\n",
       "      <td>39</td>\n",
       "      <td>12775</td>\n",
       "    </tr>\n",
       "    <tr>\n",
       "      <th>16</th>\n",
       "      <td>NaN</td>\n",
       "      <td>NaN</td>\n",
       "      <td>NaN</td>\n",
       "      <td>17</td>\n",
       "      <td>19</td>\n",
       "      <td>8275</td>\n",
       "    </tr>\n",
       "    <tr>\n",
       "      <th>17</th>\n",
       "      <td>NaN</td>\n",
       "      <td>NaN</td>\n",
       "      <td>NaN</td>\n",
       "      <td>18</td>\n",
       "      <td>30</td>\n",
       "      <td>900</td>\n",
       "    </tr>\n",
       "    <tr>\n",
       "      <th>18</th>\n",
       "      <td>NaN</td>\n",
       "      <td>NaN</td>\n",
       "      <td>NaN</td>\n",
       "      <td>19</td>\n",
       "      <td>51</td>\n",
       "      <td>15475</td>\n",
       "    </tr>\n",
       "    <tr>\n",
       "      <th>19</th>\n",
       "      <td>NaN</td>\n",
       "      <td>NaN</td>\n",
       "      <td>NaN</td>\n",
       "      <td>20</td>\n",
       "      <td>48</td>\n",
       "      <td>14800</td>\n",
       "    </tr>\n",
       "  </tbody>\n",
       "</table>\n",
       "</div>"
      ],
      "text/plain": [
       "    Unit   Age  Earnings  Unit  Age  Earnings_height\n",
       "0    1.0  18.0    9500.0     1   20             8500\n",
       "1    2.0  29.0   12250.0     2   27            10075\n",
       "2    3.0  24.0   11000.0     3   21             8725\n",
       "3    4.0  27.0   11750.0     4   39            12775\n",
       "4    5.0  33.0   13250.0     5   38            12550\n",
       "5    6.0  22.0   10500.0     6   29            10525\n",
       "6    7.0  19.0    9750.0     7   39            12775\n",
       "7    8.0  20.0   10000.0     8   33            11425\n",
       "8    9.0  21.0   10250.0     9   24             9400\n",
       "9   10.0  30.0   12500.0    10   30            10750\n",
       "10   NaN   NaN       NaN    11   33            11425\n",
       "11   NaN   NaN       NaN    12   36            12100\n",
       "12   NaN   NaN       NaN    13   22             8950\n",
       "13   NaN   NaN       NaN    14   18             8050\n",
       "14   NaN   NaN       NaN    15   43            13675\n",
       "15   NaN   NaN       NaN    16   39            12775\n",
       "16   NaN   NaN       NaN    17   19             8275\n",
       "17   NaN   NaN       NaN    18   30              900\n",
       "18   NaN   NaN       NaN    19   51            15475\n",
       "19   NaN   NaN       NaN    20   48            14800"
      ]
     },
     "execution_count": 32,
     "metadata": {},
     "output_type": "execute_result"
    }
   ],
   "source": [
    "# %% (================== Questão 8 ===================) #\n",
    "\n",
    "# Dados\n",
    "cols = 'Unit Age Earnings Unit Age Earnings_height'\n",
    "vals = '''1 18 9500 1 20 8500\n",
    "2 29 12250 2 27 10075\n",
    "3 24 11000 3 21 8725\n",
    "4 27 11750 4 39 12775\n",
    "5 33 13250 5 38 12550\n",
    "6 22 10500 6 29 10525\n",
    "7 19 9750 7 39 12775\n",
    "8 20 10000 8 33 11425\n",
    "9 21 10250 9 24 9400\n",
    "10 30 12500 10 30 10750\n",
    "- - - 11 33 11425\n",
    "- - - 12 36 12100\n",
    "- - - 13 22 8950\n",
    "- - - 14 18 8050\n",
    "- - - 15 43 13675\n",
    "- - - 16 39 12775\n",
    "- - - 17 19 8275\n",
    "- - - 18 30 900\n",
    "- - - 19 51 15475\n",
    "- - - 20 48 14800'''\n",
    "\n",
    "A = get_matrix(v = vals, c=cols, convert=False)\n",
    "df = pd.DataFrame(A, columns=cols.split(' '))\n",
    "df = df.apply(pd.to_numeric,errors='coerce')\n",
    "df"
   ]
  },
  {
   "cell_type": "markdown",
   "id": "b2c43188",
   "metadata": {},
   "source": [
    "## 9.\n",
    "Em qual situação o uso de regressão em discontinuidade é recomendado? Dê um exemplo prático e disserte sobre as vantagens desse método."
   ]
  },
  {
   "cell_type": "code",
   "execution_count": null,
   "id": "f9da918e",
   "metadata": {},
   "outputs": [],
   "source": []
  },
  {
   "cell_type": "markdown",
   "id": "7dad1aa9",
   "metadata": {},
   "source": [
    "## 10.  \n",
    "Imagine dois alunos - o primeiro aluno obteve 1240 e o segundo 1250. Esses dois alunos são realmente tão diferentes um do outro? Bem, claro: esses dois alunos individuais são provavelmente muito diferentes. Mas e se tivéssemos centenas de alunos que tiraram 1240 e centenas mais que fizeram 1250. Voce não acha que esses dois grupos são provavelmente muito semelhantes um ao outro em características observáveis e inobserváveis? \n",
    "\n",
    "Afinal, por que haveria de repente em 1250 uma grande diferença nas características dos alunos em uma grande amostra? Essae a questão sobre a qual você deve refletir. Se a universidade está escolhendo arbitrariamente um ponto de corte razoavel, há motivos para acreditar que ela também está escolhendo um ponto de corte em que a habilidade natural dos alunos salta exatamente naquele ponto? Para analisar isso , Hoekstra (2009) realizou um estudo,utilizando dados disponibilizados por uma universidade estadual americana, em que realizou a seguinte estimação.\n",
    "\n",
    "$ ln(earnings) = \\psi year + \\omega Experience + \\theta cohort + \\epsilon $\n",
    "\n",
    "Em que:\n",
    "* $ \\psi $ é um vetor de _dummies_ de anos.\n",
    "* $ \\omega $ é um vetor de _dummies_ para nos de rendimento após o colegial, isto é, anos de experiência.\n",
    "* $ \\theta $ é um vetor de _dummies_ que controlam para o _cohort_ (grupo) em que o aluno se inscreveu na universidade (por exemplo, 1988) \n",
    "\n",
    "<br>\n",
    "<img src='https://mixtape.scunning.com/graphics/rdd_hoekstra2.jpg' width=\"500\" height=\"600\">\n",
    "\n",
    "<br>\n",
    "\n",
    "O eixo horizontal do grafico retrata nota do Sat dos indivíduos, enquanto que o eixo\n",
    "vertical faz a devida correspondencia dos seus ganhos."
   ]
  },
  {
   "cell_type": "code",
   "execution_count": null,
   "id": "74c6b49d",
   "metadata": {},
   "outputs": [],
   "source": []
  },
  {
   "cell_type": "markdown",
   "id": "7f7f88f9",
   "metadata": {},
   "source": [
    "### 10A.  \n",
    "Interprete os dados. Qual a relação entre a nota do SAT e os ganhos estimados? O que explica essa descontinuidade no gráfico?"
   ]
  },
  {
   "cell_type": "code",
   "execution_count": null,
   "id": "b6c06369",
   "metadata": {},
   "outputs": [],
   "source": []
  },
  {
   "cell_type": "markdown",
   "id": "aaf1b233",
   "metadata": {},
   "source": [
    "### 10B.  \n",
    "“Estimated Discontinuity = 0.095 (z = 3.01).” O que isso significa?"
   ]
  },
  {
   "cell_type": "code",
   "execution_count": null,
   "id": "2f58f903",
   "metadata": {},
   "outputs": [],
   "source": []
  },
  {
   "cell_type": "markdown",
   "id": "b3afcaf5",
   "metadata": {},
   "source": [
    "## 11. \n",
    "Ainda pensando em RDDs, explique o conceito de _”bandwidth”_. Como o uso de uma largura de banda maior afeta sua estimativa dos efeitos do tratamento?\n"
   ]
  },
  {
   "cell_type": "code",
   "execution_count": null,
   "id": "4e8380d4",
   "metadata": {},
   "outputs": [],
   "source": []
  },
  {
   "cell_type": "code",
   "execution_count": null,
   "id": "f2a24e6c",
   "metadata": {},
   "outputs": [],
   "source": []
  }
 ],
 "metadata": {
  "kernelspec": {
   "display_name": "Python 3",
   "language": "python",
   "name": "python3"
  },
  "language_info": {
   "codemirror_mode": {
    "name": "ipython",
    "version": 3
   },
   "file_extension": ".py",
   "mimetype": "text/x-python",
   "name": "python",
   "nbconvert_exporter": "python",
   "pygments_lexer": "ipython3",
   "version": "3.9.4"
  }
 },
 "nbformat": 4,
 "nbformat_minor": 5
}
